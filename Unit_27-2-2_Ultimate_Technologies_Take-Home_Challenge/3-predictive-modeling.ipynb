{
 "cells": [
  {
   "cell_type": "markdown",
   "id": "35ff8c66",
   "metadata": {},
   "source": [
    "# Data Analysis Interview Challenge, Part 3: Predictive Modeling"
   ]
  },
  {
   "cell_type": "markdown",
   "id": "ad15f336",
   "metadata": {},
   "source": [
    "## Introduction"
   ]
  },
  {
   "cell_type": "markdown",
   "id": "71902acc",
   "metadata": {},
   "source": [
    "<span style=\"color:navy\">\n",
    "    <p><b>Instructions</b>: Ultimate is interested in predicting rider retention. To help explore this question, we have provided a sample dataset of a cohort of users who signed up for an Ultimate account in January 2014. The data was pulled several months later; we consider a user retained if they were “active” (i.e., took a trip) in the preceding 30 days.</p>\n",
    "    <p>We would like you to use this data set to help understand what factors are the best predictors for retention, and offer suggestions to operationalize those insights to help Ultimate.</p>\n",
    "    <p>The data is in the attached file <i>ultimate_data_challenge.json</i>. See below for a detailed description of the dataset. Please include any code you wrote for the analysis and delete the dataset when you have finished with the challenge.</p>\n",
    "    <ol>\n",
    "        <li>Perform any cleaning, exploratory analysis, and/or visualizations to use the provided data for this analysis (a few sentences/plots describing your approach will suffice). What fraction of the observed users were retained?</li>\n",
    "        <li>Build a predictive model to help Ultimate determine whether or not a user will be active in their 6th month on the system. Discuss why you chose your approach, what alternatives you considered, and any concerns you have. How valid is your model? Include any key indicators of model performance.</li>\n",
    "        <li>Briefly discuss how Ultimate might leverage the insights gained from the model to improve its long-term rider retention (again, a few sentences will suffice).</li>\n",
    "    </ol>\n",
    "</span>"
   ]
  },
  {
   "cell_type": "markdown",
   "id": "85e6d172",
   "metadata": {},
   "source": [
    "**Data Description**\n",
    "\n",
    "| name | description |\n",
    "| --- | --- |\n",
    "| city | city this user signed up in |\n",
    "| phone | primary device of this user |\n",
    "| signup_date | date of account registration; in the form 'YYYYMMDD' |\n",
    "| last_trip_date | the last time this user completed a trip; in the form 'YYYYMMDD' |\n",
    "| avg_dist | the average distance in miles per trip taken in the first 30 days after signup |\n",
    "| avg_rating_by_driver | rider's average rating over all of their trips |\n",
    "| avg_rating_of_driver | rider's average rating of their drivers over all of their trips |\n",
    "| surge_pct | percent of trips taken with surge multiplier > 1 |\n",
    "| avg_surge | average surge multiplier |\n",
    "| trips_in_first_30_days | number of trips this user took in the first 30 days after signing up |\n",
    "| ultimate_black_user | TRUE if the user took an Ultimate Black in their first 30 days; FALSE otherwise |\n",
    "| weekday_pct | percent of the user's trips occurring during a weekday |"
   ]
  },
  {
   "cell_type": "markdown",
   "id": "279515a0",
   "metadata": {},
   "source": [
    "Aside: what [surge](https://www.ridester.com/surge-pricing/) is."
   ]
  },
  {
   "cell_type": "markdown",
   "id": "fb65d4e1",
   "metadata": {},
   "source": [
    "## Loading and Examining Data"
   ]
  },
  {
   "cell_type": "code",
   "execution_count": 1,
   "id": "0c450cba",
   "metadata": {},
   "outputs": [],
   "source": [
    "import pandas as pd\n",
    "import matplotlib.pyplot as plt\n",
    "import numpy as np\n",
    "\n",
    "from sklearn.model_selection import train_test_split\n",
    "\n",
    "from sklearn.preprocessing import StandardScaler\n",
    "\n",
    "from sklearn.pipeline import make_pipeline, Pipeline\n",
    "\n",
    "from sklearn.linear_model import LogisticRegression\n",
    "from sklearn import svm\n",
    "from sklearn.neighbors import KNeighborsClassifier\n",
    "from sklearn.ensemble import RandomForestClassifier\n",
    "from sklearn.model_selection import GridSearchCV"
   ]
  },
  {
   "cell_type": "code",
   "execution_count": 2,
   "id": "429d74b6",
   "metadata": {},
   "outputs": [
    {
     "data": {
      "text/plain": [
       "(50000, 12)"
      ]
     },
     "execution_count": 2,
     "metadata": {},
     "output_type": "execute_result"
    }
   ],
   "source": [
    "df = pd.read_json(\".\\\\data\\\\ultimate_data_challenge.json\")\n",
    "df.shape"
   ]
  },
  {
   "cell_type": "code",
   "execution_count": 3,
   "id": "a49525ed",
   "metadata": {},
   "outputs": [
    {
     "name": "stdout",
     "output_type": "stream",
     "text": [
      "<class 'pandas.core.frame.DataFrame'>\n",
      "RangeIndex: 50000 entries, 0 to 49999\n",
      "Data columns (total 12 columns):\n",
      " #   Column                  Non-Null Count  Dtype  \n",
      "---  ------                  --------------  -----  \n",
      " 0   city                    50000 non-null  object \n",
      " 1   trips_in_first_30_days  50000 non-null  int64  \n",
      " 2   signup_date             50000 non-null  object \n",
      " 3   avg_rating_of_driver    41878 non-null  float64\n",
      " 4   avg_surge               50000 non-null  float64\n",
      " 5   last_trip_date          50000 non-null  object \n",
      " 6   phone                   49604 non-null  object \n",
      " 7   surge_pct               50000 non-null  float64\n",
      " 8   ultimate_black_user     50000 non-null  bool   \n",
      " 9   weekday_pct             50000 non-null  float64\n",
      " 10  avg_dist                50000 non-null  float64\n",
      " 11  avg_rating_by_driver    49799 non-null  float64\n",
      "dtypes: bool(1), float64(6), int64(1), object(4)\n",
      "memory usage: 4.2+ MB\n"
     ]
    }
   ],
   "source": [
    "df.info()"
   ]
  },
  {
   "cell_type": "code",
   "execution_count": 4,
   "id": "e78797ff",
   "metadata": {},
   "outputs": [
    {
     "data": {
      "text/html": [
       "<div>\n",
       "<style scoped>\n",
       "    .dataframe tbody tr th:only-of-type {\n",
       "        vertical-align: middle;\n",
       "    }\n",
       "\n",
       "    .dataframe tbody tr th {\n",
       "        vertical-align: top;\n",
       "    }\n",
       "\n",
       "    .dataframe thead th {\n",
       "        text-align: right;\n",
       "    }\n",
       "</style>\n",
       "<table border=\"1\" class=\"dataframe\">\n",
       "  <thead>\n",
       "    <tr style=\"text-align: right;\">\n",
       "      <th></th>\n",
       "      <th>city</th>\n",
       "      <th>trips_in_first_30_days</th>\n",
       "      <th>signup_date</th>\n",
       "      <th>avg_rating_of_driver</th>\n",
       "      <th>avg_surge</th>\n",
       "      <th>last_trip_date</th>\n",
       "      <th>phone</th>\n",
       "      <th>surge_pct</th>\n",
       "      <th>ultimate_black_user</th>\n",
       "      <th>weekday_pct</th>\n",
       "      <th>avg_dist</th>\n",
       "      <th>avg_rating_by_driver</th>\n",
       "    </tr>\n",
       "  </thead>\n",
       "  <tbody>\n",
       "    <tr>\n",
       "      <th>0</th>\n",
       "      <td>King's Landing</td>\n",
       "      <td>4</td>\n",
       "      <td>2014-01-25</td>\n",
       "      <td>4.7</td>\n",
       "      <td>1.10</td>\n",
       "      <td>2014-06-17</td>\n",
       "      <td>iPhone</td>\n",
       "      <td>15.4</td>\n",
       "      <td>True</td>\n",
       "      <td>46.2</td>\n",
       "      <td>3.67</td>\n",
       "      <td>5.0</td>\n",
       "    </tr>\n",
       "    <tr>\n",
       "      <th>1</th>\n",
       "      <td>Astapor</td>\n",
       "      <td>0</td>\n",
       "      <td>2014-01-29</td>\n",
       "      <td>5.0</td>\n",
       "      <td>1.00</td>\n",
       "      <td>2014-05-05</td>\n",
       "      <td>Android</td>\n",
       "      <td>0.0</td>\n",
       "      <td>False</td>\n",
       "      <td>50.0</td>\n",
       "      <td>8.26</td>\n",
       "      <td>5.0</td>\n",
       "    </tr>\n",
       "    <tr>\n",
       "      <th>2</th>\n",
       "      <td>Astapor</td>\n",
       "      <td>3</td>\n",
       "      <td>2014-01-06</td>\n",
       "      <td>4.3</td>\n",
       "      <td>1.00</td>\n",
       "      <td>2014-01-07</td>\n",
       "      <td>iPhone</td>\n",
       "      <td>0.0</td>\n",
       "      <td>False</td>\n",
       "      <td>100.0</td>\n",
       "      <td>0.77</td>\n",
       "      <td>5.0</td>\n",
       "    </tr>\n",
       "    <tr>\n",
       "      <th>3</th>\n",
       "      <td>King's Landing</td>\n",
       "      <td>9</td>\n",
       "      <td>2014-01-10</td>\n",
       "      <td>4.6</td>\n",
       "      <td>1.14</td>\n",
       "      <td>2014-06-29</td>\n",
       "      <td>iPhone</td>\n",
       "      <td>20.0</td>\n",
       "      <td>True</td>\n",
       "      <td>80.0</td>\n",
       "      <td>2.36</td>\n",
       "      <td>4.9</td>\n",
       "    </tr>\n",
       "    <tr>\n",
       "      <th>4</th>\n",
       "      <td>Winterfell</td>\n",
       "      <td>14</td>\n",
       "      <td>2014-01-27</td>\n",
       "      <td>4.4</td>\n",
       "      <td>1.19</td>\n",
       "      <td>2014-03-15</td>\n",
       "      <td>Android</td>\n",
       "      <td>11.8</td>\n",
       "      <td>False</td>\n",
       "      <td>82.4</td>\n",
       "      <td>3.13</td>\n",
       "      <td>4.9</td>\n",
       "    </tr>\n",
       "  </tbody>\n",
       "</table>\n",
       "</div>"
      ],
      "text/plain": [
       "             city  trips_in_first_30_days signup_date  avg_rating_of_driver  \\\n",
       "0  King's Landing                       4  2014-01-25                   4.7   \n",
       "1         Astapor                       0  2014-01-29                   5.0   \n",
       "2         Astapor                       3  2014-01-06                   4.3   \n",
       "3  King's Landing                       9  2014-01-10                   4.6   \n",
       "4      Winterfell                      14  2014-01-27                   4.4   \n",
       "\n",
       "   avg_surge last_trip_date    phone  surge_pct  ultimate_black_user  \\\n",
       "0       1.10     2014-06-17   iPhone       15.4                 True   \n",
       "1       1.00     2014-05-05  Android        0.0                False   \n",
       "2       1.00     2014-01-07   iPhone        0.0                False   \n",
       "3       1.14     2014-06-29   iPhone       20.0                 True   \n",
       "4       1.19     2014-03-15  Android       11.8                False   \n",
       "\n",
       "   weekday_pct  avg_dist  avg_rating_by_driver  \n",
       "0         46.2      3.67                   5.0  \n",
       "1         50.0      8.26                   5.0  \n",
       "2        100.0      0.77                   5.0  \n",
       "3         80.0      2.36                   4.9  \n",
       "4         82.4      3.13                   4.9  "
      ]
     },
     "execution_count": 4,
     "metadata": {},
     "output_type": "execute_result"
    }
   ],
   "source": [
    "df.head()"
   ]
  },
  {
   "cell_type": "markdown",
   "id": "681746ed",
   "metadata": {},
   "source": [
    "This dataset contains 50000 users. From a glance, we can see there are some missing values in the features, but most of the dataset seems populated. We do not have an explicit column that would represent our dependent variable $y$, whether a user is retained/active. This we will have to make based on if they took a trip in the preceding 30 days."
   ]
  },
  {
   "cell_type": "code",
   "execution_count": 5,
   "id": "f8164426",
   "metadata": {},
   "outputs": [],
   "source": [
    "# convert signup_date, last_trip_date to datetime\n",
    "#df.apply()\n",
    "df['signup_date'] = df['signup_date'].astype('datetime64[ns]')\n",
    "df['last_trip_date'] = df['last_trip_date'].astype('datetime64[ns]')"
   ]
  },
  {
   "cell_type": "code",
   "execution_count": 6,
   "id": "0907a6a5",
   "metadata": {},
   "outputs": [
    {
     "name": "stdout",
     "output_type": "stream",
     "text": [
      "<class 'pandas.core.frame.DataFrame'>\n",
      "RangeIndex: 50000 entries, 0 to 49999\n",
      "Data columns (total 12 columns):\n",
      " #   Column                  Non-Null Count  Dtype         \n",
      "---  ------                  --------------  -----         \n",
      " 0   city                    50000 non-null  object        \n",
      " 1   trips_in_first_30_days  50000 non-null  int64         \n",
      " 2   signup_date             50000 non-null  datetime64[ns]\n",
      " 3   avg_rating_of_driver    41878 non-null  float64       \n",
      " 4   avg_surge               50000 non-null  float64       \n",
      " 5   last_trip_date          50000 non-null  datetime64[ns]\n",
      " 6   phone                   49604 non-null  object        \n",
      " 7   surge_pct               50000 non-null  float64       \n",
      " 8   ultimate_black_user     50000 non-null  bool          \n",
      " 9   weekday_pct             50000 non-null  float64       \n",
      " 10  avg_dist                50000 non-null  float64       \n",
      " 11  avg_rating_by_driver    49799 non-null  float64       \n",
      "dtypes: bool(1), datetime64[ns](2), float64(6), int64(1), object(2)\n",
      "memory usage: 4.2+ MB\n"
     ]
    }
   ],
   "source": [
    "df.info()"
   ]
  },
  {
   "cell_type": "markdown",
   "id": "e4670e40",
   "metadata": {},
   "source": [
    "### Date data"
   ]
  },
  {
   "cell_type": "code",
   "execution_count": 7,
   "id": "97371c54",
   "metadata": {},
   "outputs": [
    {
     "data": {
      "text/plain": [
       "count                         50000\n",
       "mean     2014-01-16 13:04:20.352000\n",
       "min             2014-01-01 00:00:00\n",
       "25%             2014-01-09 00:00:00\n",
       "50%             2014-01-17 00:00:00\n",
       "75%             2014-01-24 00:00:00\n",
       "max             2014-01-31 00:00:00\n",
       "Name: signup_date, dtype: object"
      ]
     },
     "execution_count": 7,
     "metadata": {},
     "output_type": "execute_result"
    }
   ],
   "source": [
    "df.signup_date.describe(datetime_is_numeric=True)"
   ]
  },
  {
   "cell_type": "markdown",
   "id": "47671f79",
   "metadata": {},
   "source": [
    "The range matches our original statement: these users signed up in January 2014."
   ]
  },
  {
   "cell_type": "code",
   "execution_count": 8,
   "id": "a448c545",
   "metadata": {},
   "outputs": [
    {
     "data": {
      "text/plain": [
       "count                            50000\n",
       "mean     2014-04-19 08:02:04.992000256\n",
       "min                2014-01-01 00:00:00\n",
       "25%                2014-02-14 00:00:00\n",
       "50%                2014-05-08 00:00:00\n",
       "75%                2014-06-18 00:00:00\n",
       "max                2014-07-01 00:00:00\n",
       "Name: last_trip_date, dtype: object"
      ]
     },
     "execution_count": 8,
     "metadata": {},
     "output_type": "execute_result"
    }
   ],
   "source": [
    "df.last_trip_date.describe(datetime_is_numeric=True)"
   ]
  },
  {
   "cell_type": "markdown",
   "id": "88c470f1",
   "metadata": {},
   "source": [
    "Our latest date is the first of July. The range makes sense, and now we know that when our project specs says \"several months later\", it means 6 months."
   ]
  },
  {
   "cell_type": "markdown",
   "id": "90bb6520",
   "metadata": {},
   "source": [
    "### Numerical data"
   ]
  },
  {
   "cell_type": "code",
   "execution_count": 9,
   "id": "af796a56",
   "metadata": {},
   "outputs": [
    {
     "data": {
      "text/html": [
       "<div>\n",
       "<style scoped>\n",
       "    .dataframe tbody tr th:only-of-type {\n",
       "        vertical-align: middle;\n",
       "    }\n",
       "\n",
       "    .dataframe tbody tr th {\n",
       "        vertical-align: top;\n",
       "    }\n",
       "\n",
       "    .dataframe thead th {\n",
       "        text-align: right;\n",
       "    }\n",
       "</style>\n",
       "<table border=\"1\" class=\"dataframe\">\n",
       "  <thead>\n",
       "    <tr style=\"text-align: right;\">\n",
       "      <th></th>\n",
       "      <th>trips_in_first_30_days</th>\n",
       "      <th>avg_rating_of_driver</th>\n",
       "      <th>avg_surge</th>\n",
       "      <th>surge_pct</th>\n",
       "      <th>weekday_pct</th>\n",
       "      <th>avg_dist</th>\n",
       "      <th>avg_rating_by_driver</th>\n",
       "    </tr>\n",
       "  </thead>\n",
       "  <tbody>\n",
       "    <tr>\n",
       "      <th>count</th>\n",
       "      <td>50000.000000</td>\n",
       "      <td>41878.000000</td>\n",
       "      <td>50000.000000</td>\n",
       "      <td>50000.000000</td>\n",
       "      <td>50000.000000</td>\n",
       "      <td>50000.000000</td>\n",
       "      <td>49799.000000</td>\n",
       "    </tr>\n",
       "    <tr>\n",
       "      <th>mean</th>\n",
       "      <td>2.278200</td>\n",
       "      <td>4.601559</td>\n",
       "      <td>1.074764</td>\n",
       "      <td>8.849536</td>\n",
       "      <td>60.926084</td>\n",
       "      <td>5.796827</td>\n",
       "      <td>4.778158</td>\n",
       "    </tr>\n",
       "    <tr>\n",
       "      <th>std</th>\n",
       "      <td>3.792684</td>\n",
       "      <td>0.617338</td>\n",
       "      <td>0.222336</td>\n",
       "      <td>19.958811</td>\n",
       "      <td>37.081503</td>\n",
       "      <td>5.707357</td>\n",
       "      <td>0.446652</td>\n",
       "    </tr>\n",
       "    <tr>\n",
       "      <th>min</th>\n",
       "      <td>0.000000</td>\n",
       "      <td>1.000000</td>\n",
       "      <td>1.000000</td>\n",
       "      <td>0.000000</td>\n",
       "      <td>0.000000</td>\n",
       "      <td>0.000000</td>\n",
       "      <td>1.000000</td>\n",
       "    </tr>\n",
       "    <tr>\n",
       "      <th>25%</th>\n",
       "      <td>0.000000</td>\n",
       "      <td>4.300000</td>\n",
       "      <td>1.000000</td>\n",
       "      <td>0.000000</td>\n",
       "      <td>33.300000</td>\n",
       "      <td>2.420000</td>\n",
       "      <td>4.700000</td>\n",
       "    </tr>\n",
       "    <tr>\n",
       "      <th>50%</th>\n",
       "      <td>1.000000</td>\n",
       "      <td>4.900000</td>\n",
       "      <td>1.000000</td>\n",
       "      <td>0.000000</td>\n",
       "      <td>66.700000</td>\n",
       "      <td>3.880000</td>\n",
       "      <td>5.000000</td>\n",
       "    </tr>\n",
       "    <tr>\n",
       "      <th>75%</th>\n",
       "      <td>3.000000</td>\n",
       "      <td>5.000000</td>\n",
       "      <td>1.050000</td>\n",
       "      <td>8.600000</td>\n",
       "      <td>100.000000</td>\n",
       "      <td>6.940000</td>\n",
       "      <td>5.000000</td>\n",
       "    </tr>\n",
       "    <tr>\n",
       "      <th>max</th>\n",
       "      <td>125.000000</td>\n",
       "      <td>5.000000</td>\n",
       "      <td>8.000000</td>\n",
       "      <td>100.000000</td>\n",
       "      <td>100.000000</td>\n",
       "      <td>160.960000</td>\n",
       "      <td>5.000000</td>\n",
       "    </tr>\n",
       "  </tbody>\n",
       "</table>\n",
       "</div>"
      ],
      "text/plain": [
       "       trips_in_first_30_days  avg_rating_of_driver     avg_surge  \\\n",
       "count            50000.000000          41878.000000  50000.000000   \n",
       "mean                 2.278200              4.601559      1.074764   \n",
       "std                  3.792684              0.617338      0.222336   \n",
       "min                  0.000000              1.000000      1.000000   \n",
       "25%                  0.000000              4.300000      1.000000   \n",
       "50%                  1.000000              4.900000      1.000000   \n",
       "75%                  3.000000              5.000000      1.050000   \n",
       "max                125.000000              5.000000      8.000000   \n",
       "\n",
       "          surge_pct   weekday_pct      avg_dist  avg_rating_by_driver  \n",
       "count  50000.000000  50000.000000  50000.000000          49799.000000  \n",
       "mean       8.849536     60.926084      5.796827              4.778158  \n",
       "std       19.958811     37.081503      5.707357              0.446652  \n",
       "min        0.000000      0.000000      0.000000              1.000000  \n",
       "25%        0.000000     33.300000      2.420000              4.700000  \n",
       "50%        0.000000     66.700000      3.880000              5.000000  \n",
       "75%        8.600000    100.000000      6.940000              5.000000  \n",
       "max      100.000000    100.000000    160.960000              5.000000  "
      ]
     },
     "execution_count": 9,
     "metadata": {},
     "output_type": "execute_result"
    }
   ],
   "source": [
    "df.describe()"
   ]
  },
  {
   "cell_type": "markdown",
   "id": "aa52cb2e",
   "metadata": {},
   "source": [
    "Of our numerical columns, nothing really jumps from `avg_rating_of_driver`, `surge_pct`, `weekday_pct`, and `avg_rating_by_driver`, but the `trips_in_first_30_days`, `avg_surge`, and `avg_dist` have some outliers that we will look over."
   ]
  },
  {
   "cell_type": "markdown",
   "id": "04fea86e",
   "metadata": {},
   "source": [
    "125 trips in 30 days seems like quite the outlier, but this is about 4-5 trips per day, which is actually not that strange if they happen to be a consistently very mobile person. Another possibility is that they share their account with others."
   ]
  },
  {
   "cell_type": "code",
   "execution_count": 10,
   "id": "afef71b0",
   "metadata": {},
   "outputs": [
    {
     "data": {
      "text/html": [
       "<div>\n",
       "<style scoped>\n",
       "    .dataframe tbody tr th:only-of-type {\n",
       "        vertical-align: middle;\n",
       "    }\n",
       "\n",
       "    .dataframe tbody tr th {\n",
       "        vertical-align: top;\n",
       "    }\n",
       "\n",
       "    .dataframe thead th {\n",
       "        text-align: right;\n",
       "    }\n",
       "</style>\n",
       "<table border=\"1\" class=\"dataframe\">\n",
       "  <thead>\n",
       "    <tr style=\"text-align: right;\">\n",
       "      <th></th>\n",
       "      <th>city</th>\n",
       "      <th>trips_in_first_30_days</th>\n",
       "      <th>signup_date</th>\n",
       "      <th>avg_rating_of_driver</th>\n",
       "      <th>avg_surge</th>\n",
       "      <th>last_trip_date</th>\n",
       "      <th>phone</th>\n",
       "      <th>surge_pct</th>\n",
       "      <th>ultimate_black_user</th>\n",
       "      <th>weekday_pct</th>\n",
       "      <th>avg_dist</th>\n",
       "      <th>avg_rating_by_driver</th>\n",
       "    </tr>\n",
       "  </thead>\n",
       "  <tbody>\n",
       "    <tr>\n",
       "      <th>18514</th>\n",
       "      <td>King's Landing</td>\n",
       "      <td>125</td>\n",
       "      <td>2014-01-02</td>\n",
       "      <td>5.0</td>\n",
       "      <td>1.12</td>\n",
       "      <td>2014-06-30</td>\n",
       "      <td>iPhone</td>\n",
       "      <td>14.4</td>\n",
       "      <td>True</td>\n",
       "      <td>72.0</td>\n",
       "      <td>2.02</td>\n",
       "      <td>4.8</td>\n",
       "    </tr>\n",
       "  </tbody>\n",
       "</table>\n",
       "</div>"
      ],
      "text/plain": [
       "                 city  trips_in_first_30_days signup_date  \\\n",
       "18514  King's Landing                     125  2014-01-02   \n",
       "\n",
       "       avg_rating_of_driver  avg_surge last_trip_date   phone  surge_pct  \\\n",
       "18514                   5.0       1.12     2014-06-30  iPhone       14.4   \n",
       "\n",
       "       ultimate_black_user  weekday_pct  avg_dist  avg_rating_by_driver  \n",
       "18514                 True         72.0      2.02                   4.8  "
      ]
     },
     "execution_count": 10,
     "metadata": {},
     "output_type": "execute_result"
    }
   ],
   "source": [
    "df[df['trips_in_first_30_days'] == 125]"
   ]
  },
  {
   "cell_type": "markdown",
   "id": "27e52d29",
   "metadata": {},
   "source": [
    "Their average distance per trip looks small to me, so it could be that they just request a ride for lots of short distances. This user's `last_trip_date` is pretty recent."
   ]
  },
  {
   "cell_type": "code",
   "execution_count": 11,
   "id": "660c10eb",
   "metadata": {},
   "outputs": [],
   "source": [
    "def plot_hist(df, column_name, title=\"\", xlabel=\"\", ylabel=\"\"):\n",
    "    \"\"\"\n",
    "    Plots a histogram for a column from a DataFrame.\n",
    "    \n",
    "    df : The dataframe containing the information to plot.\n",
    "    column_name : The name of the column in the df to plot.\n",
    "    title : The title of the plot.\n",
    "    xlabel : The name of the xlabel.\n",
    "    ylabel : The name of the ylabel.\n",
    "    KeyError: can TODO - column_name should exist in df\n",
    "    \"\"\"\n",
    "    _ = plt.hist(df[column_name], bins=int(np.ceil(np.log2(len(df[column_name]))) + 1))\n",
    "    _ = plt.title(title)\n",
    "    _ = plt.xlabel(xlabel)\n",
    "    _ = plt.ylabel(ylabel)\n",
    "    _ = plt.show()"
   ]
  },
  {
   "cell_type": "code",
   "execution_count": 12,
   "id": "cc2d883d",
   "metadata": {},
   "outputs": [
    {
     "data": {
      "image/png": "[encoded data removed]",
      "text/plain": [
       "<Figure size 640x480 with 1 Axes>"
      ]
     },
     "metadata": {},
     "output_type": "display_data"
    }
   ],
   "source": [
    "plot_hist(df, 'trips_in_first_30_days',\n",
    "          title=\"Distribution of trips in first 30 days of signup\",\n",
    "          xlabel=\"Number of trips\",\n",
    "          ylabel=\"Users\")"
   ]
  },
  {
   "cell_type": "code",
   "execution_count": 13,
   "id": "03eba387",
   "metadata": {},
   "outputs": [
    {
     "data": {
      "text/html": [
       "<div>\n",
       "<style scoped>\n",
       "    .dataframe tbody tr th:only-of-type {\n",
       "        vertical-align: middle;\n",
       "    }\n",
       "\n",
       "    .dataframe tbody tr th {\n",
       "        vertical-align: top;\n",
       "    }\n",
       "\n",
       "    .dataframe thead th {\n",
       "        text-align: right;\n",
       "    }\n",
       "</style>\n",
       "<table border=\"1\" class=\"dataframe\">\n",
       "  <thead>\n",
       "    <tr style=\"text-align: right;\">\n",
       "      <th></th>\n",
       "      <th>trips_in_first_30_days</th>\n",
       "      <th>avg_rating_of_driver</th>\n",
       "      <th>avg_surge</th>\n",
       "      <th>surge_pct</th>\n",
       "      <th>weekday_pct</th>\n",
       "      <th>avg_dist</th>\n",
       "      <th>avg_rating_by_driver</th>\n",
       "    </tr>\n",
       "  </thead>\n",
       "  <tbody>\n",
       "    <tr>\n",
       "      <th>count</th>\n",
       "      <td>35.000000</td>\n",
       "      <td>35.000000</td>\n",
       "      <td>35.000000</td>\n",
       "      <td>35.000000</td>\n",
       "      <td>35.000000</td>\n",
       "      <td>35.000000</td>\n",
       "      <td>35.000000</td>\n",
       "    </tr>\n",
       "    <tr>\n",
       "      <th>mean</th>\n",
       "      <td>52.028571</td>\n",
       "      <td>4.651429</td>\n",
       "      <td>1.058571</td>\n",
       "      <td>7.140000</td>\n",
       "      <td>74.985714</td>\n",
       "      <td>3.090286</td>\n",
       "      <td>4.694286</td>\n",
       "    </tr>\n",
       "    <tr>\n",
       "      <th>std</th>\n",
       "      <td>14.894700</td>\n",
       "      <td>0.424521</td>\n",
       "      <td>0.053586</td>\n",
       "      <td>6.579701</td>\n",
       "      <td>7.579428</td>\n",
       "      <td>1.580764</td>\n",
       "      <td>0.143369</td>\n",
       "    </tr>\n",
       "    <tr>\n",
       "      <th>min</th>\n",
       "      <td>41.000000</td>\n",
       "      <td>3.100000</td>\n",
       "      <td>1.000000</td>\n",
       "      <td>0.000000</td>\n",
       "      <td>58.800000</td>\n",
       "      <td>1.140000</td>\n",
       "      <td>4.400000</td>\n",
       "    </tr>\n",
       "    <tr>\n",
       "      <th>25%</th>\n",
       "      <td>44.000000</td>\n",
       "      <td>4.600000</td>\n",
       "      <td>1.020000</td>\n",
       "      <td>3.150000</td>\n",
       "      <td>70.050000</td>\n",
       "      <td>2.105000</td>\n",
       "      <td>4.600000</td>\n",
       "    </tr>\n",
       "    <tr>\n",
       "      <th>50%</th>\n",
       "      <td>48.000000</td>\n",
       "      <td>4.800000</td>\n",
       "      <td>1.050000</td>\n",
       "      <td>5.400000</td>\n",
       "      <td>73.900000</td>\n",
       "      <td>2.740000</td>\n",
       "      <td>4.700000</td>\n",
       "    </tr>\n",
       "    <tr>\n",
       "      <th>75%</th>\n",
       "      <td>54.500000</td>\n",
       "      <td>4.950000</td>\n",
       "      <td>1.085000</td>\n",
       "      <td>8.800000</td>\n",
       "      <td>79.150000</td>\n",
       "      <td>3.425000</td>\n",
       "      <td>4.800000</td>\n",
       "    </tr>\n",
       "    <tr>\n",
       "      <th>max</th>\n",
       "      <td>125.000000</td>\n",
       "      <td>5.000000</td>\n",
       "      <td>1.250000</td>\n",
       "      <td>33.600000</td>\n",
       "      <td>89.700000</td>\n",
       "      <td>8.170000</td>\n",
       "      <td>5.000000</td>\n",
       "    </tr>\n",
       "  </tbody>\n",
       "</table>\n",
       "</div>"
      ],
      "text/plain": [
       "       trips_in_first_30_days  avg_rating_of_driver  avg_surge  surge_pct  \\\n",
       "count               35.000000             35.000000  35.000000  35.000000   \n",
       "mean                52.028571              4.651429   1.058571   7.140000   \n",
       "std                 14.894700              0.424521   0.053586   6.579701   \n",
       "min                 41.000000              3.100000   1.000000   0.000000   \n",
       "25%                 44.000000              4.600000   1.020000   3.150000   \n",
       "50%                 48.000000              4.800000   1.050000   5.400000   \n",
       "75%                 54.500000              4.950000   1.085000   8.800000   \n",
       "max                125.000000              5.000000   1.250000  33.600000   \n",
       "\n",
       "       weekday_pct   avg_dist  avg_rating_by_driver  \n",
       "count    35.000000  35.000000             35.000000  \n",
       "mean     74.985714   3.090286              4.694286  \n",
       "std       7.579428   1.580764              0.143369  \n",
       "min      58.800000   1.140000              4.400000  \n",
       "25%      70.050000   2.105000              4.600000  \n",
       "50%      73.900000   2.740000              4.700000  \n",
       "75%      79.150000   3.425000              4.800000  \n",
       "max      89.700000   8.170000              5.000000  "
      ]
     },
     "execution_count": 13,
     "metadata": {},
     "output_type": "execute_result"
    }
   ],
   "source": [
    "df[df['trips_in_first_30_days'] > 40].describe()"
   ]
  },
  {
   "cell_type": "markdown",
   "id": "7efac63d",
   "metadata": {},
   "source": [
    "It looks like there could be a pattern of behaviors in these users who have a lot of trips in their first 30 days of signup. They are generally weekday users (the minimum percentage is 59%), who travel short-to-moderate distances during or in low-surge times and areas (the values in the average distance and surge columns are generally medium-to-low and low)."
   ]
  },
  {
   "cell_type": "code",
   "execution_count": 14,
   "id": "00e4865b",
   "metadata": {},
   "outputs": [
    {
     "data": {
      "text/html": [
       "<div>\n",
       "<style scoped>\n",
       "    .dataframe tbody tr th:only-of-type {\n",
       "        vertical-align: middle;\n",
       "    }\n",
       "\n",
       "    .dataframe tbody tr th {\n",
       "        vertical-align: top;\n",
       "    }\n",
       "\n",
       "    .dataframe thead th {\n",
       "        text-align: right;\n",
       "    }\n",
       "</style>\n",
       "<table border=\"1\" class=\"dataframe\">\n",
       "  <thead>\n",
       "    <tr style=\"text-align: right;\">\n",
       "      <th></th>\n",
       "      <th>city</th>\n",
       "      <th>trips_in_first_30_days</th>\n",
       "      <th>signup_date</th>\n",
       "      <th>avg_rating_of_driver</th>\n",
       "      <th>avg_surge</th>\n",
       "      <th>last_trip_date</th>\n",
       "      <th>phone</th>\n",
       "      <th>surge_pct</th>\n",
       "      <th>ultimate_black_user</th>\n",
       "      <th>weekday_pct</th>\n",
       "      <th>avg_dist</th>\n",
       "      <th>avg_rating_by_driver</th>\n",
       "    </tr>\n",
       "  </thead>\n",
       "  <tbody>\n",
       "    <tr>\n",
       "      <th>13861</th>\n",
       "      <td>Winterfell</td>\n",
       "      <td>1</td>\n",
       "      <td>2014-01-01</td>\n",
       "      <td>1.0</td>\n",
       "      <td>8.0</td>\n",
       "      <td>2014-01-01</td>\n",
       "      <td>iPhone</td>\n",
       "      <td>100.0</td>\n",
       "      <td>False</td>\n",
       "      <td>100.0</td>\n",
       "      <td>5.77</td>\n",
       "      <td>5.0</td>\n",
       "    </tr>\n",
       "  </tbody>\n",
       "</table>\n",
       "</div>"
      ],
      "text/plain": [
       "             city  trips_in_first_30_days signup_date  avg_rating_of_driver  \\\n",
       "13861  Winterfell                       1  2014-01-01                   1.0   \n",
       "\n",
       "       avg_surge last_trip_date   phone  surge_pct  ultimate_black_user  \\\n",
       "13861        8.0     2014-01-01  iPhone      100.0                False   \n",
       "\n",
       "       weekday_pct  avg_dist  avg_rating_by_driver  \n",
       "13861        100.0      5.77                   5.0  "
      ]
     },
     "execution_count": 14,
     "metadata": {},
     "output_type": "execute_result"
    }
   ],
   "source": [
    "df[df['avg_surge'] == 8]"
   ]
  },
  {
   "cell_type": "markdown",
   "id": "8aa84dd1",
   "metadata": {},
   "source": [
    "This user does not look so happy with his one day of trip with the 8x multiplier... I probably wouldn't be happy with an 8x cost either, so this could be a reasonable row overall."
   ]
  },
  {
   "cell_type": "code",
   "execution_count": 15,
   "id": "b903d46d",
   "metadata": {},
   "outputs": [
    {
     "data": {
      "image/png": "[encoded data removed]",
      "text/plain": [
       "<Figure size 640x480 with 1 Axes>"
      ]
     },
     "metadata": {},
     "output_type": "display_data"
    }
   ],
   "source": [
    "plot_hist(df, 'avg_surge',\n",
    "          title=\"Distribution of average surge\",\n",
    "          xlabel=\"Average surge\",\n",
    "          ylabel=\"Number of users\")"
   ]
  },
  {
   "cell_type": "code",
   "execution_count": 16,
   "id": "9a0ecefe",
   "metadata": {},
   "outputs": [
    {
     "data": {
      "text/html": [
       "<div>\n",
       "<style scoped>\n",
       "    .dataframe tbody tr th:only-of-type {\n",
       "        vertical-align: middle;\n",
       "    }\n",
       "\n",
       "    .dataframe tbody tr th {\n",
       "        vertical-align: top;\n",
       "    }\n",
       "\n",
       "    .dataframe thead th {\n",
       "        text-align: right;\n",
       "    }\n",
       "</style>\n",
       "<table border=\"1\" class=\"dataframe\">\n",
       "  <thead>\n",
       "    <tr style=\"text-align: right;\">\n",
       "      <th></th>\n",
       "      <th>trips_in_first_30_days</th>\n",
       "      <th>avg_rating_of_driver</th>\n",
       "      <th>avg_surge</th>\n",
       "      <th>surge_pct</th>\n",
       "      <th>weekday_pct</th>\n",
       "      <th>avg_dist</th>\n",
       "      <th>avg_rating_by_driver</th>\n",
       "    </tr>\n",
       "  </thead>\n",
       "  <tbody>\n",
       "    <tr>\n",
       "      <th>count</th>\n",
       "      <td>466.000000</td>\n",
       "      <td>290.000000</td>\n",
       "      <td>466.000000</td>\n",
       "      <td>466.000000</td>\n",
       "      <td>466.000000</td>\n",
       "      <td>466.000000</td>\n",
       "      <td>458.000000</td>\n",
       "    </tr>\n",
       "    <tr>\n",
       "      <th>mean</th>\n",
       "      <td>0.757511</td>\n",
       "      <td>4.394483</td>\n",
       "      <td>2.705494</td>\n",
       "      <td>94.281545</td>\n",
       "      <td>39.260300</td>\n",
       "      <td>4.554227</td>\n",
       "      <td>4.797380</td>\n",
       "    </tr>\n",
       "    <tr>\n",
       "      <th>std</th>\n",
       "      <td>0.741400</td>\n",
       "      <td>0.966446</td>\n",
       "      <td>0.570755</td>\n",
       "      <td>15.131088</td>\n",
       "      <td>46.906802</td>\n",
       "      <td>4.010222</td>\n",
       "      <td>0.631758</td>\n",
       "    </tr>\n",
       "    <tr>\n",
       "      <th>min</th>\n",
       "      <td>0.000000</td>\n",
       "      <td>1.000000</td>\n",
       "      <td>2.070000</td>\n",
       "      <td>33.300000</td>\n",
       "      <td>0.000000</td>\n",
       "      <td>0.000000</td>\n",
       "      <td>1.000000</td>\n",
       "    </tr>\n",
       "    <tr>\n",
       "      <th>25%</th>\n",
       "      <td>0.000000</td>\n",
       "      <td>4.000000</td>\n",
       "      <td>2.250000</td>\n",
       "      <td>100.000000</td>\n",
       "      <td>0.000000</td>\n",
       "      <td>2.030000</td>\n",
       "      <td>5.000000</td>\n",
       "    </tr>\n",
       "    <tr>\n",
       "      <th>50%</th>\n",
       "      <td>1.000000</td>\n",
       "      <td>5.000000</td>\n",
       "      <td>2.500000</td>\n",
       "      <td>100.000000</td>\n",
       "      <td>0.000000</td>\n",
       "      <td>3.345000</td>\n",
       "      <td>5.000000</td>\n",
       "    </tr>\n",
       "    <tr>\n",
       "      <th>75%</th>\n",
       "      <td>1.000000</td>\n",
       "      <td>5.000000</td>\n",
       "      <td>3.000000</td>\n",
       "      <td>100.000000</td>\n",
       "      <td>100.000000</td>\n",
       "      <td>5.410000</td>\n",
       "      <td>5.000000</td>\n",
       "    </tr>\n",
       "    <tr>\n",
       "      <th>max</th>\n",
       "      <td>6.000000</td>\n",
       "      <td>5.000000</td>\n",
       "      <td>5.750000</td>\n",
       "      <td>100.000000</td>\n",
       "      <td>100.000000</td>\n",
       "      <td>26.570000</td>\n",
       "      <td>5.000000</td>\n",
       "    </tr>\n",
       "  </tbody>\n",
       "</table>\n",
       "</div>"
      ],
      "text/plain": [
       "       trips_in_first_30_days  avg_rating_of_driver   avg_surge   surge_pct  \\\n",
       "count              466.000000            290.000000  466.000000  466.000000   \n",
       "mean                 0.757511              4.394483    2.705494   94.281545   \n",
       "std                  0.741400              0.966446    0.570755   15.131088   \n",
       "min                  0.000000              1.000000    2.070000   33.300000   \n",
       "25%                  0.000000              4.000000    2.250000  100.000000   \n",
       "50%                  1.000000              5.000000    2.500000  100.000000   \n",
       "75%                  1.000000              5.000000    3.000000  100.000000   \n",
       "max                  6.000000              5.000000    5.750000  100.000000   \n",
       "\n",
       "       weekday_pct    avg_dist  avg_rating_by_driver  \n",
       "count   466.000000  466.000000            458.000000  \n",
       "mean     39.260300    4.554227              4.797380  \n",
       "std      46.906802    4.010222              0.631758  \n",
       "min       0.000000    0.000000              1.000000  \n",
       "25%       0.000000    2.030000              5.000000  \n",
       "50%       0.000000    3.345000              5.000000  \n",
       "75%     100.000000    5.410000              5.000000  \n",
       "max     100.000000   26.570000              5.000000  "
      ]
     },
     "execution_count": 16,
     "metadata": {},
     "output_type": "execute_result"
    }
   ],
   "source": [
    "df[(df['avg_surge'] > 2) & (df['avg_surge'] < 8)].describe()"
   ]
  },
  {
   "cell_type": "markdown",
   "id": "bf8df2e2",
   "metadata": {},
   "source": [
    "The outlier of 8 `avg_surge` is not that weird, since he has had only one trip (or perhaps only used the app for one day), whereas the average of others can be nearly 6x, meaning that the true range of surge is likely much higher than 6x."
   ]
  },
  {
   "cell_type": "code",
   "execution_count": 17,
   "id": "86c74c36",
   "metadata": {},
   "outputs": [
    {
     "data": {
      "image/png": "[encoded data removed]",
      "text/plain": [
       "<Figure size 640x480 with 1 Axes>"
      ]
     },
     "metadata": {},
     "output_type": "display_data"
    }
   ],
   "source": [
    "plot_hist(df, 'avg_dist',\n",
    "          title=\"Distribution of average distance\",\n",
    "          xlabel=\"Average distance\",\n",
    "          ylabel=\"Users\")"
   ]
  },
  {
   "cell_type": "code",
   "execution_count": 18,
   "id": "c6fe7bd2",
   "metadata": {},
   "outputs": [
    {
     "data": {
      "text/html": [
       "<div>\n",
       "<style scoped>\n",
       "    .dataframe tbody tr th:only-of-type {\n",
       "        vertical-align: middle;\n",
       "    }\n",
       "\n",
       "    .dataframe tbody tr th {\n",
       "        vertical-align: top;\n",
       "    }\n",
       "\n",
       "    .dataframe thead th {\n",
       "        text-align: right;\n",
       "    }\n",
       "</style>\n",
       "<table border=\"1\" class=\"dataframe\">\n",
       "  <thead>\n",
       "    <tr style=\"text-align: right;\">\n",
       "      <th></th>\n",
       "      <th>city</th>\n",
       "      <th>trips_in_first_30_days</th>\n",
       "      <th>signup_date</th>\n",
       "      <th>avg_rating_of_driver</th>\n",
       "      <th>avg_surge</th>\n",
       "      <th>last_trip_date</th>\n",
       "      <th>phone</th>\n",
       "      <th>surge_pct</th>\n",
       "      <th>ultimate_black_user</th>\n",
       "      <th>weekday_pct</th>\n",
       "      <th>avg_dist</th>\n",
       "      <th>avg_rating_by_driver</th>\n",
       "    </tr>\n",
       "  </thead>\n",
       "  <tbody>\n",
       "    <tr>\n",
       "      <th>20701</th>\n",
       "      <td>Astapor</td>\n",
       "      <td>0</td>\n",
       "      <td>2014-01-25</td>\n",
       "      <td>NaN</td>\n",
       "      <td>1.0</td>\n",
       "      <td>2014-06-26</td>\n",
       "      <td>Android</td>\n",
       "      <td>0.0</td>\n",
       "      <td>False</td>\n",
       "      <td>100.0</td>\n",
       "      <td>160.96</td>\n",
       "      <td>NaN</td>\n",
       "    </tr>\n",
       "    <tr>\n",
       "      <th>534</th>\n",
       "      <td>King's Landing</td>\n",
       "      <td>0</td>\n",
       "      <td>2014-01-04</td>\n",
       "      <td>NaN</td>\n",
       "      <td>1.0</td>\n",
       "      <td>2014-03-09</td>\n",
       "      <td>None</td>\n",
       "      <td>0.0</td>\n",
       "      <td>False</td>\n",
       "      <td>0.0</td>\n",
       "      <td>129.89</td>\n",
       "      <td>5.0</td>\n",
       "    </tr>\n",
       "    <tr>\n",
       "      <th>1302</th>\n",
       "      <td>Winterfell</td>\n",
       "      <td>1</td>\n",
       "      <td>2014-01-30</td>\n",
       "      <td>5.0</td>\n",
       "      <td>1.0</td>\n",
       "      <td>2014-01-30</td>\n",
       "      <td>iPhone</td>\n",
       "      <td>0.0</td>\n",
       "      <td>False</td>\n",
       "      <td>100.0</td>\n",
       "      <td>79.69</td>\n",
       "      <td>5.0</td>\n",
       "    </tr>\n",
       "    <tr>\n",
       "      <th>22290</th>\n",
       "      <td>Astapor</td>\n",
       "      <td>0</td>\n",
       "      <td>2014-01-12</td>\n",
       "      <td>5.0</td>\n",
       "      <td>1.0</td>\n",
       "      <td>2014-06-26</td>\n",
       "      <td>iPhone</td>\n",
       "      <td>0.0</td>\n",
       "      <td>True</td>\n",
       "      <td>100.0</td>\n",
       "      <td>79.34</td>\n",
       "      <td>5.0</td>\n",
       "    </tr>\n",
       "    <tr>\n",
       "      <th>47595</th>\n",
       "      <td>King's Landing</td>\n",
       "      <td>0</td>\n",
       "      <td>2014-01-25</td>\n",
       "      <td>5.0</td>\n",
       "      <td>1.0</td>\n",
       "      <td>2014-06-09</td>\n",
       "      <td>iPhone</td>\n",
       "      <td>0.0</td>\n",
       "      <td>True</td>\n",
       "      <td>0.0</td>\n",
       "      <td>77.13</td>\n",
       "      <td>5.0</td>\n",
       "    </tr>\n",
       "  </tbody>\n",
       "</table>\n",
       "</div>"
      ],
      "text/plain": [
       "                 city  trips_in_first_30_days signup_date  \\\n",
       "20701         Astapor                       0  2014-01-25   \n",
       "534    King's Landing                       0  2014-01-04   \n",
       "1302       Winterfell                       1  2014-01-30   \n",
       "22290         Astapor                       0  2014-01-12   \n",
       "47595  King's Landing                       0  2014-01-25   \n",
       "\n",
       "       avg_rating_of_driver  avg_surge last_trip_date    phone  surge_pct  \\\n",
       "20701                   NaN        1.0     2014-06-26  Android        0.0   \n",
       "534                     NaN        1.0     2014-03-09     None        0.0   \n",
       "1302                    5.0        1.0     2014-01-30   iPhone        0.0   \n",
       "22290                   5.0        1.0     2014-06-26   iPhone        0.0   \n",
       "47595                   5.0        1.0     2014-06-09   iPhone        0.0   \n",
       "\n",
       "       ultimate_black_user  weekday_pct  avg_dist  avg_rating_by_driver  \n",
       "20701                False        100.0    160.96                   NaN  \n",
       "534                  False          0.0    129.89                   5.0  \n",
       "1302                 False        100.0     79.69                   5.0  \n",
       "22290                 True        100.0     79.34                   5.0  \n",
       "47595                 True          0.0     77.13                   5.0  "
      ]
     },
     "execution_count": 18,
     "metadata": {},
     "output_type": "execute_result"
    }
   ],
   "source": [
    "df.sort_values(by='avg_dist', ascending=False).head()"
   ]
  },
  {
   "cell_type": "markdown",
   "id": "6e0f5a40",
   "metadata": {},
   "source": [
    "### Categorical data"
   ]
  },
  {
   "cell_type": "code",
   "execution_count": 19,
   "id": "c5e7d679",
   "metadata": {},
   "outputs": [
    {
     "name": "stdout",
     "output_type": "stream",
     "text": [
      "Winterfell        23336\n",
      "Astapor           16534\n",
      "King's Landing    10130\n",
      "Name: city, dtype: int64\n"
     ]
    }
   ],
   "source": [
    "print(df.city.value_counts())"
   ]
  },
  {
   "cell_type": "code",
   "execution_count": 20,
   "id": "2f60ece8",
   "metadata": {},
   "outputs": [
    {
     "name": "stdout",
     "output_type": "stream",
     "text": [
      "iPhone     34582\n",
      "Android    15022\n",
      "Name: phone, dtype: int64\n"
     ]
    }
   ],
   "source": [
    "print(df.phone.value_counts())"
   ]
  },
  {
   "cell_type": "code",
   "execution_count": 21,
   "id": "6ac97dcd",
   "metadata": {},
   "outputs": [
    {
     "data": {
      "text/plain": [
       "0.69716151923232"
      ]
     },
     "execution_count": 21,
     "metadata": {},
     "output_type": "execute_result"
    }
   ],
   "source": [
    "df.phone.value_counts()[0] / (df.phone.value_counts()[0] + df.phone.value_counts()[1])"
   ]
  },
  {
   "cell_type": "markdown",
   "id": "1e16a5ff",
   "metadata": {},
   "source": [
    "About 70% of the phones are iPhones."
   ]
  },
  {
   "cell_type": "code",
   "execution_count": 22,
   "id": "552a362c",
   "metadata": {},
   "outputs": [
    {
     "data": {
      "text/plain": [
       "phone    city          \n",
       "Android  Astapor            5244\n",
       "         King's Landing     2498\n",
       "         Winterfell         7280\n",
       "iPhone   Astapor           11169\n",
       "         King's Landing     7568\n",
       "         Winterfell        15845\n",
       "Name: signup_date, dtype: int64"
      ]
     },
     "execution_count": 22,
     "metadata": {},
     "output_type": "execute_result"
    }
   ],
   "source": [
    "phone_in_city = df.groupby(by=['phone', 'city']).count()['signup_date']\n",
    "phone_in_city"
   ]
  },
  {
   "cell_type": "code",
   "execution_count": 23,
   "id": "d665a62f",
   "metadata": {},
   "outputs": [
    {
     "name": "stdout",
     "output_type": "stream",
     "text": [
      "{'Android': [2498, 5244, 7280], 'iPhone': [7568, 11169, 15845]}\n"
     ]
    }
   ],
   "source": [
    "cities = df.city.unique()\n",
    "phone_counts = {'Android': [], 'iPhone': []}\n",
    "for phone in phone_counts.keys():\n",
    "    for city in cities:\n",
    "        phone_counts[phone].append(phone_in_city[phone][city])\n",
    "print(phone_counts)"
   ]
  },
  {
   "cell_type": "code",
   "execution_count": 24,
   "id": "4c319bd4",
   "metadata": {},
   "outputs": [
    {
     "data": {
      "image/png": "[encoded data removed]",
      "text/plain": [
       "<Figure size 640x480 with 1 Axes>"
      ]
     },
     "metadata": {},
     "output_type": "display_data"
    }
   ],
   "source": [
    "width = 0.6\n",
    "bottom = np.zeros(3)\n",
    "\n",
    "fig, ax = plt.subplots()\n",
    "\n",
    "for phone_type, phone_count in phone_counts.items():\n",
    "    p = ax.bar(cities, phone_count, width, label=phone_type, bottom=bottom)\n",
    "    bottom += phone_count\n",
    "    ax.bar_label(p, label_type='center')\n",
    "\n",
    "ax.set_title(\"Number of users signed up in a city by phone type\")\n",
    "ax.legend(loc=\"upper left\")\n",
    "plt.show()"
   ]
  },
  {
   "cell_type": "markdown",
   "id": "ba99bc28",
   "metadata": {},
   "source": [
    "Most people signed up in Winterfell and the least amount of people signed up in King's Landing. They have roughly equal distributions of phone types in each city, but King's Landing has a slightly higher proportion of iPhone users."
   ]
  },
  {
   "cell_type": "markdown",
   "id": "12e49d63",
   "metadata": {},
   "source": [
    "## Missing Values"
   ]
  },
  {
   "cell_type": "code",
   "execution_count": 25,
   "id": "41748805",
   "metadata": {},
   "outputs": [
    {
     "data": {
      "text/html": [
       "<div>\n",
       "<style scoped>\n",
       "    .dataframe tbody tr th:only-of-type {\n",
       "        vertical-align: middle;\n",
       "    }\n",
       "\n",
       "    .dataframe tbody tr th {\n",
       "        vertical-align: top;\n",
       "    }\n",
       "\n",
       "    .dataframe thead th {\n",
       "        text-align: right;\n",
       "    }\n",
       "</style>\n",
       "<table border=\"1\" class=\"dataframe\">\n",
       "  <thead>\n",
       "    <tr style=\"text-align: right;\">\n",
       "      <th></th>\n",
       "      <th>count</th>\n",
       "      <th>%</th>\n",
       "    </tr>\n",
       "  </thead>\n",
       "  <tbody>\n",
       "    <tr>\n",
       "      <th>avg_rating_of_driver</th>\n",
       "      <td>8122</td>\n",
       "      <td>16.244</td>\n",
       "    </tr>\n",
       "    <tr>\n",
       "      <th>phone</th>\n",
       "      <td>396</td>\n",
       "      <td>0.792</td>\n",
       "    </tr>\n",
       "    <tr>\n",
       "      <th>avg_rating_by_driver</th>\n",
       "      <td>201</td>\n",
       "      <td>0.402</td>\n",
       "    </tr>\n",
       "  </tbody>\n",
       "</table>\n",
       "</div>"
      ],
      "text/plain": [
       "                      count       %\n",
       "avg_rating_of_driver   8122  16.244\n",
       "phone                   396   0.792\n",
       "avg_rating_by_driver    201   0.402"
      ]
     },
     "execution_count": 25,
     "metadata": {},
     "output_type": "execute_result"
    }
   ],
   "source": [
    "missing = pd.concat([df.isnull().sum(), 100 * df.isnull().mean()], axis=1)\n",
    "missing.columns = ['count', '%']\n",
    "missing = missing.sort_values(by='%', ascending=False)\n",
    "missing[missing['%'] > 0]"
   ]
  },
  {
   "cell_type": "markdown",
   "id": "88ee9df7",
   "metadata": {},
   "source": [
    "### Missing `avg_rating...` values"
   ]
  },
  {
   "cell_type": "code",
   "execution_count": 26,
   "id": "46a518bc",
   "metadata": {},
   "outputs": [
    {
     "data": {
      "image/png": "[encoded data removed]",
      "text/plain": [
       "<Figure size 640x480 with 1 Axes>"
      ]
     },
     "metadata": {},
     "output_type": "display_data"
    }
   ],
   "source": [
    "plot_hist(df, 'avg_rating_of_driver',\n",
    "          title=\"Distribution of average rating of driver\")"
   ]
  },
  {
   "cell_type": "code",
   "execution_count": 27,
   "id": "cd41a57d",
   "metadata": {},
   "outputs": [
    {
     "data": {
      "text/plain": [
       "count    41878.000000\n",
       "mean         4.601559\n",
       "std          0.617338\n",
       "min          1.000000\n",
       "25%          4.300000\n",
       "50%          4.900000\n",
       "75%          5.000000\n",
       "max          5.000000\n",
       "Name: avg_rating_of_driver, dtype: float64"
      ]
     },
     "execution_count": 27,
     "metadata": {},
     "output_type": "execute_result"
    }
   ],
   "source": [
    "df['avg_rating_of_driver'].describe()"
   ]
  },
  {
   "cell_type": "code",
   "execution_count": 28,
   "id": "13c9263e",
   "metadata": {},
   "outputs": [
    {
     "data": {
      "image/png": "[encoded data removed]",
      "text/plain": [
       "<Figure size 640x480 with 1 Axes>"
      ]
     },
     "metadata": {},
     "output_type": "display_data"
    }
   ],
   "source": [
    "plot_hist(df, 'avg_rating_by_driver',\n",
    "          title=\"Distribution of average rating by  driver\")"
   ]
  },
  {
   "cell_type": "code",
   "execution_count": 29,
   "id": "0f7f8584",
   "metadata": {},
   "outputs": [
    {
     "data": {
      "text/plain": [
       "count    49799.000000\n",
       "mean         4.778158\n",
       "std          0.446652\n",
       "min          1.000000\n",
       "25%          4.700000\n",
       "50%          5.000000\n",
       "75%          5.000000\n",
       "max          5.000000\n",
       "Name: avg_rating_by_driver, dtype: float64"
      ]
     },
     "execution_count": 29,
     "metadata": {},
     "output_type": "execute_result"
    }
   ],
   "source": [
    "df['avg_rating_by_driver'].describe()"
   ]
  },
  {
   "cell_type": "markdown",
   "id": "c441cb9b",
   "metadata": {},
   "source": [
    "The missing values for these will just be simply imputed as the average."
   ]
  },
  {
   "cell_type": "code",
   "execution_count": 30,
   "id": "eb87e7bd",
   "metadata": {},
   "outputs": [],
   "source": [
    "df.fillna(value=\n",
    "              {'avg_rating_of_driver': df['avg_rating_of_driver'].mean(),\n",
    "               'avg_rating_by_driver': df['avg_rating_by_driver'].mean()},\n",
    "          inplace=True)"
   ]
  },
  {
   "cell_type": "code",
   "execution_count": 31,
   "id": "791aadf2",
   "metadata": {},
   "outputs": [
    {
     "name": "stdout",
     "output_type": "stream",
     "text": [
      "<class 'pandas.core.frame.DataFrame'>\n",
      "RangeIndex: 50000 entries, 0 to 49999\n",
      "Data columns (total 12 columns):\n",
      " #   Column                  Non-Null Count  Dtype         \n",
      "---  ------                  --------------  -----         \n",
      " 0   city                    50000 non-null  object        \n",
      " 1   trips_in_first_30_days  50000 non-null  int64         \n",
      " 2   signup_date             50000 non-null  datetime64[ns]\n",
      " 3   avg_rating_of_driver    50000 non-null  float64       \n",
      " 4   avg_surge               50000 non-null  float64       \n",
      " 5   last_trip_date          50000 non-null  datetime64[ns]\n",
      " 6   phone                   49604 non-null  object        \n",
      " 7   surge_pct               50000 non-null  float64       \n",
      " 8   ultimate_black_user     50000 non-null  bool          \n",
      " 9   weekday_pct             50000 non-null  float64       \n",
      " 10  avg_dist                50000 non-null  float64       \n",
      " 11  avg_rating_by_driver    50000 non-null  float64       \n",
      "dtypes: bool(1), datetime64[ns](2), float64(6), int64(1), object(2)\n",
      "memory usage: 4.2+ MB\n"
     ]
    }
   ],
   "source": [
    "df.info()"
   ]
  },
  {
   "cell_type": "code",
   "execution_count": 32,
   "id": "c56f2d9c",
   "metadata": {},
   "outputs": [
    {
     "data": {
      "text/html": [
       "<div>\n",
       "<style scoped>\n",
       "    .dataframe tbody tr th:only-of-type {\n",
       "        vertical-align: middle;\n",
       "    }\n",
       "\n",
       "    .dataframe tbody tr th {\n",
       "        vertical-align: top;\n",
       "    }\n",
       "\n",
       "    .dataframe thead th {\n",
       "        text-align: right;\n",
       "    }\n",
       "</style>\n",
       "<table border=\"1\" class=\"dataframe\">\n",
       "  <thead>\n",
       "    <tr style=\"text-align: right;\">\n",
       "      <th></th>\n",
       "      <th>avg_rating_of_driver</th>\n",
       "      <th>avg_rating_by_driver</th>\n",
       "    </tr>\n",
       "  </thead>\n",
       "  <tbody>\n",
       "    <tr>\n",
       "      <th>count</th>\n",
       "      <td>50000.000000</td>\n",
       "      <td>50000.000000</td>\n",
       "    </tr>\n",
       "    <tr>\n",
       "      <th>mean</th>\n",
       "      <td>4.601559</td>\n",
       "      <td>4.778158</td>\n",
       "    </tr>\n",
       "    <tr>\n",
       "      <th>std</th>\n",
       "      <td>0.564977</td>\n",
       "      <td>0.445753</td>\n",
       "    </tr>\n",
       "    <tr>\n",
       "      <th>min</th>\n",
       "      <td>1.000000</td>\n",
       "      <td>1.000000</td>\n",
       "    </tr>\n",
       "    <tr>\n",
       "      <th>25%</th>\n",
       "      <td>4.500000</td>\n",
       "      <td>4.700000</td>\n",
       "    </tr>\n",
       "    <tr>\n",
       "      <th>50%</th>\n",
       "      <td>4.700000</td>\n",
       "      <td>5.000000</td>\n",
       "    </tr>\n",
       "    <tr>\n",
       "      <th>75%</th>\n",
       "      <td>5.000000</td>\n",
       "      <td>5.000000</td>\n",
       "    </tr>\n",
       "    <tr>\n",
       "      <th>max</th>\n",
       "      <td>5.000000</td>\n",
       "      <td>5.000000</td>\n",
       "    </tr>\n",
       "  </tbody>\n",
       "</table>\n",
       "</div>"
      ],
      "text/plain": [
       "       avg_rating_of_driver  avg_rating_by_driver\n",
       "count          50000.000000          50000.000000\n",
       "mean               4.601559              4.778158\n",
       "std                0.564977              0.445753\n",
       "min                1.000000              1.000000\n",
       "25%                4.500000              4.700000\n",
       "50%                4.700000              5.000000\n",
       "75%                5.000000              5.000000\n",
       "max                5.000000              5.000000"
      ]
     },
     "execution_count": 32,
     "metadata": {},
     "output_type": "execute_result"
    }
   ],
   "source": [
    "df[['avg_rating_of_driver', 'avg_rating_by_driver']].describe()"
   ]
  },
  {
   "cell_type": "markdown",
   "id": "46edeff7",
   "metadata": {},
   "source": [
    "### Missing `phone` values"
   ]
  },
  {
   "cell_type": "markdown",
   "id": "5b67a2c5",
   "metadata": {},
   "source": [
    "With categorical data, we can either simply impute with the mode (iPhone) or try to retain some of the distribution. I will go with the latter. Recall that we had about 70% iPhones. \"King's Landing\" had about 75% iPhones, but this may be close enough."
   ]
  },
  {
   "cell_type": "code",
   "execution_count": 33,
   "id": "a886dcbe",
   "metadata": {},
   "outputs": [
    {
     "data": {
      "text/plain": [
       "0.69716151923232"
      ]
     },
     "execution_count": 33,
     "metadata": {},
     "output_type": "execute_result"
    }
   ],
   "source": [
    "pct_iphone = df.phone.value_counts()[0] / (df.phone.value_counts()[0] + df.phone.value_counts()[1])\n",
    "pct_iphone"
   ]
  },
  {
   "cell_type": "code",
   "execution_count": 34,
   "id": "ad506b53",
   "metadata": {},
   "outputs": [],
   "source": [
    "def make_random_phones(pct_iphone, num_phones, seed=23):\n",
    "    \"\"\"\n",
    "    Generates random phones as an iPhone or Android, depending on the percentage of iPhones.\n",
    "    pct_iphones : the threshold percentage (<= 1) for a phone to be considered an iPhone.\n",
    "    num_phones : the number of phones to generate.\n",
    "    seed : the seed for the random number generator for reproducibility.\n",
    "    \"\"\"\n",
    "    rng = np.random.default_rng(seed=seed)\n",
    "    rng_arr = rng.random((num_phones, 1))\n",
    "    phone = []\n",
    "    for rn in rng_arr:\n",
    "        if rn <= pct_iphone:\n",
    "            phone.append('iPhone')\n",
    "        else:\n",
    "            phone.append('Android')\n",
    "    return phone"
   ]
  },
  {
   "cell_type": "code",
   "execution_count": 35,
   "id": "7df28b0f",
   "metadata": {
    "scrolled": true
   },
   "outputs": [],
   "source": [
    "random_phones = make_random_phones(pct_iphone, df['phone'].isna().sum())"
   ]
  },
  {
   "cell_type": "code",
   "execution_count": 36,
   "id": "78b9e2da",
   "metadata": {},
   "outputs": [],
   "source": [
    "j = 0\n",
    "for i in df[df['phone'].isna()]['phone'].index:\n",
    "    df.loc[i, 'phone'] = random_phones[j]\n",
    "    j += 1"
   ]
  },
  {
   "cell_type": "code",
   "execution_count": 37,
   "id": "af04b442",
   "metadata": {},
   "outputs": [
    {
     "name": "stdout",
     "output_type": "stream",
     "text": [
      "iPhone: 34851 units, 69.7%\n",
      "Android: 15149 units, 30.3%\n",
      "\n"
     ]
    }
   ],
   "source": [
    "print(\"{}: {} units, {}%\\n{}: {} units, {}%\\n\".format(\n",
    "        df.phone.value_counts().index[0], df.phone.value_counts()[0], round(df.phone.value_counts()[0]/len(df) * 100, 2),\n",
    "        df.phone.value_counts().index[1], df.phone.value_counts()[1], round(df.phone.value_counts()[1]/len(df) * 100, 2)))"
   ]
  },
  {
   "cell_type": "code",
   "execution_count": 38,
   "id": "7c56f244",
   "metadata": {},
   "outputs": [
    {
     "name": "stdout",
     "output_type": "stream",
     "text": [
      "<class 'pandas.core.frame.DataFrame'>\n",
      "RangeIndex: 50000 entries, 0 to 49999\n",
      "Data columns (total 12 columns):\n",
      " #   Column                  Non-Null Count  Dtype         \n",
      "---  ------                  --------------  -----         \n",
      " 0   city                    50000 non-null  object        \n",
      " 1   trips_in_first_30_days  50000 non-null  int64         \n",
      " 2   signup_date             50000 non-null  datetime64[ns]\n",
      " 3   avg_rating_of_driver    50000 non-null  float64       \n",
      " 4   avg_surge               50000 non-null  float64       \n",
      " 5   last_trip_date          50000 non-null  datetime64[ns]\n",
      " 6   phone                   50000 non-null  object        \n",
      " 7   surge_pct               50000 non-null  float64       \n",
      " 8   ultimate_black_user     50000 non-null  bool          \n",
      " 9   weekday_pct             50000 non-null  float64       \n",
      " 10  avg_dist                50000 non-null  float64       \n",
      " 11  avg_rating_by_driver    50000 non-null  float64       \n",
      "dtypes: bool(1), datetime64[ns](2), float64(6), int64(1), object(2)\n",
      "memory usage: 4.2+ MB\n"
     ]
    }
   ],
   "source": [
    "df.info()"
   ]
  },
  {
   "cell_type": "markdown",
   "id": "426b9380",
   "metadata": {},
   "source": [
    "## Response Variable"
   ]
  },
  {
   "cell_type": "markdown",
   "id": "0b0a53dc",
   "metadata": {},
   "source": [
    "Now to establish which users are still active. As defined by the project guidelines, active users are those who were active in the last 30 days."
   ]
  },
  {
   "cell_type": "code",
   "execution_count": 39,
   "id": "e9fc820f",
   "metadata": {},
   "outputs": [
    {
     "name": "stdout",
     "output_type": "stream",
     "text": [
      "2014-07-01 00:00:00\n"
     ]
    }
   ],
   "source": [
    "max_date = df.last_trip_date.max()\n",
    "print(max_date)"
   ]
  },
  {
   "cell_type": "code",
   "execution_count": 40,
   "id": "de470839",
   "metadata": {},
   "outputs": [
    {
     "name": "stdout",
     "output_type": "stream",
     "text": [
      "18804 users were active in the last 30 days\n"
     ]
    }
   ],
   "source": [
    "print(\"{} users were active in the last 30 days\".format(\n",
    "    len(df[df['last_trip_date'] >= (max_date - pd.Timedelta(30, unit='days'))])))"
   ]
  },
  {
   "cell_type": "code",
   "execution_count": 41,
   "id": "0571c989",
   "metadata": {
    "scrolled": false
   },
   "outputs": [],
   "source": [
    "df['active'] = [1 if last_date >= (max_date - pd.Timedelta(30, unit='days')) else 0 for last_date in df.last_trip_date]"
   ]
  },
  {
   "cell_type": "code",
   "execution_count": 42,
   "id": "834aa0fd",
   "metadata": {},
   "outputs": [
    {
     "data": {
      "text/plain": [
       "18804"
      ]
     },
     "execution_count": 42,
     "metadata": {},
     "output_type": "execute_result"
    }
   ],
   "source": [
    "df.active.sum()"
   ]
  },
  {
   "cell_type": "code",
   "execution_count": 43,
   "id": "2e0e740c",
   "metadata": {},
   "outputs": [
    {
     "name": "stdout",
     "output_type": "stream",
     "text": [
      "Fraction of users retained: 18804/50000\n",
      "Percent of users retained: 0.37608\n"
     ]
    }
   ],
   "source": [
    "print(\"Fraction of users retained: {}/{}\\nPercent of users retained: {}\".format(\n",
    "    df.active.sum(), len(df), df.active.sum() / len(df)))"
   ]
  },
  {
   "cell_type": "markdown",
   "id": "61d14b32",
   "metadata": {},
   "source": [
    "We have some class imbalance."
   ]
  },
  {
   "cell_type": "code",
   "execution_count": 44,
   "id": "750d5eeb",
   "metadata": {},
   "outputs": [
    {
     "data": {
      "image/png": "[encoded data removed]",
      "text/plain": [
       "<Figure size 640x480 with 1 Axes>"
      ]
     },
     "metadata": {},
     "output_type": "display_data"
    }
   ],
   "source": [
    "fig, ax = plt.subplots()\n",
    "_ = ax.bar(['Inactive', 'Active'], height=df['active'].value_counts().values, color=['orange', 'green'])\n",
    "_ = ax.set_title(\"User activity\")\n",
    "_ = plt.xlabel(\"User status\")\n",
    "_ = plt.ylabel(\"Count\")\n",
    "\n",
    "plt.show()"
   ]
  },
  {
   "cell_type": "markdown",
   "id": "da894509",
   "metadata": {},
   "source": [
    "### Exploratory Data Analysis"
   ]
  },
  {
   "cell_type": "markdown",
   "id": "e08e3c5b",
   "metadata": {},
   "source": [
    "#### Helper functions"
   ]
  },
  {
   "cell_type": "code",
   "execution_count": 45,
   "id": "6f7a0778",
   "metadata": {},
   "outputs": [],
   "source": [
    "def make_activity_cat_dict(df, x_cats, col_name):\n",
    "    \"\"\"\n",
    "    Counts the number of inactive and active users for a given category.\n",
    "    \n",
    "    x_cats : The categories to count.\n",
    "    col_name : The column name corresponding to the categories.\n",
    "    \"\"\"\n",
    "    cat_activity = {'inactive':[], 'active':[]}\n",
    "    for cat in x_cats:\n",
    "        active_users = df[(df[col_name] == cat)]['active'].sum()\n",
    "        inactive_users = len(df[(df[col_name] == cat)]) - active_users\n",
    "        cat_activity['inactive'].append(inactive_users)\n",
    "        cat_activity['active'].append(active_users)\n",
    "    return cat_activity"
   ]
  },
  {
   "cell_type": "code",
   "execution_count": 46,
   "id": "88187fc3",
   "metadata": {},
   "outputs": [],
   "source": [
    "def plot_bar_by_activity(x_cats, group_dict, title=\"\", legend_loc=None, xlabel=\"\", ylabel=\"\", width=0.25):\n",
    "    \"\"\"\n",
    "    Plots a bar chart for a category, grouping them horizontally into inactive and active groups, and coloring\n",
    "    inactive groups orange and active groups green.\n",
    "    \n",
    "    x_cats : The categories to graph. The order should match the group_dict list of numbers.\n",
    "    group_dict : A dictionary containing 'inactive' and 'active' keys with numbers that correspond to the x_cats.\n",
    "    title : The title to give the plot.\n",
    "    legend_loc : Controls where the legend will be on the plot.\n",
    "    xlabel : Name of the x-label.\n",
    "    ylabel : Name of the y-label.\n",
    "    width : The width of the bars.\n",
    "    \"\"\"\n",
    "    # set up variables\n",
    "    x = np.arange(len(x_cats))\n",
    "    multiplier = 0\n",
    "    \n",
    "    fig, ax = plt.subplots()\n",
    "    for group, value in group_dict.items():\n",
    "        # position\n",
    "        offset = width * multiplier\n",
    "        # bars\n",
    "        bars = ax.bar(x + offset, value, width, label=group)\n",
    "        # colors\n",
    "        for b in bars.patches:\n",
    "            if (group == 'inactive'):\n",
    "                b.set(color='orange')\n",
    "            else:\n",
    "                b.set(color='green')\n",
    "        \n",
    "        ax.bar_label(bars, padding=3)\n",
    "        multiplier += 1\n",
    "    \n",
    "    # title, legend, and labels\n",
    "    ax.set_title(title)\n",
    "    ax.set_xticks(x + (width)/len(group_dict), x_cats)\n",
    "    ax.legend(loc=legend_loc)\n",
    "    ax.set_xlabel(xlabel)\n",
    "    ax.set_ylabel(ylabel)\n",
    "    \n",
    "    # dynamically adjusts the height to contain the values better\n",
    "    ax.set_ylim(0, np.max(np.array([v for v in group_dict.values()]).flatten())\n",
    "               + np.ceil(np.std(np.array([v for v in group_dict.values()]).flatten())))\n",
    "    \n",
    "    _ = plt.show()"
   ]
  },
  {
   "cell_type": "code",
   "execution_count": 47,
   "id": "d8e98731",
   "metadata": {},
   "outputs": [],
   "source": [
    "def plot_violin_by_activity(inactive_values, active_values, title=\"\", xlabel=\"User activity\", ylabel=\"\"):\n",
    "    \"\"\"\n",
    "    Plots a violin chart, grouped by activity and colored orange for inactive and green for active.\n",
    "    \n",
    "    inactive_values : The data for inactive users.\n",
    "    active_values : The data for active users.\n",
    "    title : The title to give the plot.\n",
    "    xlabel : Name of the x-label.\n",
    "    ylabel : Name of the y-label.\n",
    "    \"\"\"\n",
    "    # aggregate the values\n",
    "    all_values = [inactive_values, active_values]\n",
    "    \n",
    "    fig, ax = plt.subplots()\n",
    "    violin = ax.violinplot(all_values)\n",
    "    # colors\n",
    "    violin['bodies'][0].set(color='orange')\n",
    "    violin['bodies'][1].set(color='green')\n",
    "    \n",
    "    # title, labels\n",
    "    ax.set_title(title)\n",
    "    ax.set_xticks([y + 1 for y in range(len(all_values))], labels=['inactive', 'active'])\n",
    "    ax.set_xlabel(xlabel)\n",
    "    ax.set_ylabel(ylabel)\n",
    "    \n",
    "    _ = plt.show()"
   ]
  },
  {
   "cell_type": "code",
   "execution_count": 48,
   "id": "4c300e99",
   "metadata": {},
   "outputs": [],
   "source": [
    "def plot_box_by_activity(inactive_values, active_values, title=\"\", xlabel=\"\", ylabel=\"\"):\n",
    "    \"\"\"\n",
    "    Plots a box chart, grouped by activity and colored orange for inactive and green for active.\n",
    "    \n",
    "    inactive_values : The data for inactive users.\n",
    "    active_values : The data for active users.\n",
    "    title : The title to give the plot.\n",
    "    xlabel : Name of the x-label.\n",
    "    ylabel : Name of the y-label.\n",
    "    \"\"\"\n",
    "    # aggregate the values\n",
    "    all_values = [inactive_values, active_values]\n",
    "    \n",
    "    fig, ax = plt.subplots()\n",
    "    box = ax.boxplot(all_values)\n",
    "    \n",
    "    # colors\n",
    "    box['boxes'][0].set(color='orange')\n",
    "    box['boxes'][1].set(color='green')\n",
    "    box['medians'][0].set(color='blue')\n",
    "    box['medians'][1].set(color='blue')\n",
    "    \n",
    "    # title, labels\n",
    "    ax.set_title(title)\n",
    "    ax.set_xticks([y + 1 for y in range(len(all_values))], labels=['inactive', 'active'])\n",
    "    ax.set_xlabel(xlabel)\n",
    "    ax.set_ylabel(ylabel)\n",
    "    \n",
    "    _ = plt.show()"
   ]
  },
  {
   "cell_type": "markdown",
   "id": "ce98ebce",
   "metadata": {},
   "source": [
    "#### By `city`"
   ]
  },
  {
   "cell_type": "code",
   "execution_count": 49,
   "id": "34749986",
   "metadata": {},
   "outputs": [
    {
     "data": {
      "image/png": "[encoded data removed]",
      "text/plain": [
       "<Figure size 640x480 with 1 Axes>"
      ]
     },
     "metadata": {},
     "output_type": "display_data"
    }
   ],
   "source": [
    "cities = df.city.unique()\n",
    "\n",
    "plot_bar_by_activity(cities, make_activity_cat_dict(df, cities, 'city'),\n",
    "                     title=\"Number of users from each city grouped by activity\",\n",
    "                     legend_loc=\"upper left\",\n",
    "                     xlabel=\"Cities\",\n",
    "                     ylabel=\"Number of users\",\n",
    "                     width=0.3)"
   ]
  },
  {
   "cell_type": "markdown",
   "id": "2f90b8e6",
   "metadata": {},
   "source": [
    "Most users from 'Astapor' and 'Winterfell' are inactive now, but \"King's Landing\" still has a lot of active users. It also looks like 'Astapor' has a slightly greater ratio of inactive users to active users compared to 'Winterfell'."
   ]
  },
  {
   "cell_type": "markdown",
   "id": "7ca2ec0e",
   "metadata": {},
   "source": [
    "#### By `trips_in_first_30_days`"
   ]
  },
  {
   "cell_type": "code",
   "execution_count": 50,
   "id": "217b3097",
   "metadata": {},
   "outputs": [
    {
     "data": {
      "text/plain": [
       "count    31196.000000\n",
       "mean         1.658482\n",
       "std          2.654222\n",
       "min          0.000000\n",
       "25%          0.000000\n",
       "50%          1.000000\n",
       "75%          2.000000\n",
       "max         73.000000\n",
       "Name: trips_in_first_30_days, dtype: float64"
      ]
     },
     "execution_count": 50,
     "metadata": {},
     "output_type": "execute_result"
    }
   ],
   "source": [
    "df[df['active'] == 0]['trips_in_first_30_days'].describe()"
   ]
  },
  {
   "cell_type": "code",
   "execution_count": 51,
   "id": "03706113",
   "metadata": {},
   "outputs": [
    {
     "data": {
      "text/plain": [
       "count    18804.000000\n",
       "mean         3.306318\n",
       "std          4.986743\n",
       "min          0.000000\n",
       "25%          0.000000\n",
       "50%          2.000000\n",
       "75%          4.000000\n",
       "max        125.000000\n",
       "Name: trips_in_first_30_days, dtype: float64"
      ]
     },
     "execution_count": 51,
     "metadata": {},
     "output_type": "execute_result"
    }
   ],
   "source": [
    "df[df['active'] == 1]['trips_in_first_30_days'].describe()"
   ]
  },
  {
   "cell_type": "code",
   "execution_count": 52,
   "id": "e9f36bae",
   "metadata": {},
   "outputs": [
    {
     "data": {
      "text/plain": [
       "count    18803.000000\n",
       "mean         3.299846\n",
       "std          4.907264\n",
       "min          0.000000\n",
       "25%          0.000000\n",
       "50%          2.000000\n",
       "75%          4.000000\n",
       "max         71.000000\n",
       "Name: trips_in_first_30_days, dtype: float64"
      ]
     },
     "execution_count": 52,
     "metadata": {},
     "output_type": "execute_result"
    }
   ],
   "source": [
    "df[(df['active'] == 1) & (df['trips_in_first_30_days'] < 125)]['trips_in_first_30_days'].describe()"
   ]
  },
  {
   "cell_type": "markdown",
   "id": "28b0ac93",
   "metadata": {},
   "source": [
    "The range for the `trips_in_first_30_days` is very wide, so a visualization for its distribution will be skewed and the information will be more obscure. By looking at the summary statistics though, we can see that active users tended to have more trips in their first 30 days. Their mean may be skewed, but the median is still higher, and even when we filter out the outlier of the active dataset, the mean is still higher than that of the inactive people."
   ]
  },
  {
   "cell_type": "code",
   "execution_count": 53,
   "id": "608e7551",
   "metadata": {},
   "outputs": [],
   "source": [
    "x_active = df[df['active'] == 1]['trips_in_first_30_days'].values\n",
    "x_inactive = df[df['active'] == 0]['trips_in_first_30_days'].values"
   ]
  },
  {
   "cell_type": "markdown",
   "id": "0d311c12",
   "metadata": {},
   "source": [
    "#### By `signup_date`"
   ]
  },
  {
   "cell_type": "code",
   "execution_count": 54,
   "id": "9a55c1e3",
   "metadata": {},
   "outputs": [],
   "source": [
    "jan_daily_df = pd.DataFrame(pd.date_range(start=df['signup_date'].min(), end=df['signup_date'].max(), freq='D')).rename(columns={0:'signup_date'})"
   ]
  },
  {
   "cell_type": "code",
   "execution_count": 55,
   "id": "0655fa85",
   "metadata": {},
   "outputs": [],
   "source": [
    "signup_inactive_df = pd.DataFrame(df[df['active'] == 0]['signup_date'].value_counts()).reset_index() \\\n",
    "                     .rename(columns={'signup_date':'inactive', 'index':'date'})\n",
    "signup_active_df = pd.DataFrame(df[df['active'] == 1]['signup_date'].value_counts()).reset_index() \\\n",
    "                     .rename(columns={'signup_date':'active', 'index':'date'})"
   ]
  },
  {
   "cell_type": "code",
   "execution_count": 56,
   "id": "ab5228ad",
   "metadata": {},
   "outputs": [],
   "source": [
    "signup_inactive_df.rename(columns={'date':'signup_date'}, inplace=True)\n",
    "signup_active_df.rename(columns={'date':'signup_date'}, inplace=True)"
   ]
  },
  {
   "cell_type": "code",
   "execution_count": 57,
   "id": "5d5ab968",
   "metadata": {},
   "outputs": [],
   "source": [
    "signup_inactive_df.sort_values(by='signup_date', inplace=True)\n",
    "signup_inactive_df.reset_index(drop=True, inplace=True)\n",
    "\n",
    "signup_active_df.sort_values(by='signup_date', inplace=True)\n",
    "signup_active_df.reset_index(drop=True, inplace=True)"
   ]
  },
  {
   "cell_type": "code",
   "execution_count": 58,
   "id": "958108d4",
   "metadata": {},
   "outputs": [],
   "source": [
    "jan_daily_df = pd.concat([jan_daily_df,\n",
    "                          signup_inactive_df.drop(columns='signup_date'),\n",
    "                          signup_active_df.drop(columns='signup_date')], axis=1)"
   ]
  },
  {
   "cell_type": "code",
   "execution_count": 59,
   "id": "f19a288d",
   "metadata": {},
   "outputs": [
    {
     "data": {
      "image/png": "[encoded data removed]",
      "text/plain": [
       "<Figure size 640x480 with 1 Axes>"
      ]
     },
     "metadata": {},
     "output_type": "display_data"
    }
   ],
   "source": [
    "fig, ax = plt.subplots()\n",
    "_ = ax.plot(jan_daily_df['signup_date'], jan_daily_df['inactive'], label='inactive', color='orange')\n",
    "_ = ax.plot(jan_daily_df['signup_date'], jan_daily_df['active'], label='active', color='green')\n",
    "_ = plt.title(\"Users and signup dates grouped by activity\")\n",
    "_ = plt.legend()\n",
    "_ = plt.xticks(rotation=90)\n",
    "_ = plt.show()"
   ]
  },
  {
   "cell_type": "markdown",
   "id": "3005d711",
   "metadata": {},
   "source": [
    "There's no difference in the pattern."
   ]
  },
  {
   "cell_type": "markdown",
   "id": "4db261b4",
   "metadata": {},
   "source": [
    "#### By `avg_rating_of_driver`"
   ]
  },
  {
   "cell_type": "code",
   "execution_count": 60,
   "id": "238c11d6",
   "metadata": {},
   "outputs": [
    {
     "data": {
      "image/png": "[encoded data removed]",
      "text/plain": [
       "<Figure size 640x480 with 1 Axes>"
      ]
     },
     "metadata": {},
     "output_type": "display_data"
    }
   ],
   "source": [
    "plot_box_by_activity(df[df['active'] == 0]['avg_rating_of_driver'].values,\n",
    "                        df[df['active'] == 1]['avg_rating_of_driver'].values,\n",
    "                        title=\"Box plot of rating of driver by activity\",\n",
    "                        xlabel=\"User activity\",\n",
    "                        ylabel=\"Average rating of driver in stars\")"
   ]
  },
  {
   "cell_type": "markdown",
   "id": "fe3bdf9b",
   "metadata": {},
   "source": [
    "Active users tend to rate the driver lower."
   ]
  },
  {
   "cell_type": "markdown",
   "id": "cd7e656d",
   "metadata": {},
   "source": [
    "#### By `avg_surge`"
   ]
  },
  {
   "cell_type": "code",
   "execution_count": 61,
   "id": "709210dd",
   "metadata": {},
   "outputs": [
    {
     "data": {
      "text/plain": [
       "count    31196.000000\n",
       "mean         1.075339\n",
       "std          0.251361\n",
       "min          1.000000\n",
       "25%          1.000000\n",
       "50%          1.000000\n",
       "75%          1.000000\n",
       "max          8.000000\n",
       "Name: avg_surge, dtype: float64"
      ]
     },
     "execution_count": 61,
     "metadata": {},
     "output_type": "execute_result"
    }
   ],
   "source": [
    "df[df['active'] == 0]['avg_surge'].describe()"
   ]
  },
  {
   "cell_type": "code",
   "execution_count": 62,
   "id": "1081bb07",
   "metadata": {},
   "outputs": [
    {
     "data": {
      "text/plain": [
       "count    18804.000000\n",
       "mean         1.073809\n",
       "std          0.163170\n",
       "min          1.000000\n",
       "25%          1.000000\n",
       "50%          1.000000\n",
       "75%          1.090000\n",
       "max          4.500000\n",
       "Name: avg_surge, dtype: float64"
      ]
     },
     "execution_count": 62,
     "metadata": {},
     "output_type": "execute_result"
    }
   ],
   "source": [
    "df[df['active'] == 1]['avg_surge'].describe()"
   ]
  },
  {
   "cell_type": "markdown",
   "id": "27bdef65",
   "metadata": {},
   "source": [
    "The surge doesn't seem to differ very much, but the max value of the inactive users is higher."
   ]
  },
  {
   "cell_type": "markdown",
   "id": "d1ce8baa",
   "metadata": {},
   "source": [
    "#### By `last_trip_date`\n",
    "The response variable is constructed using this value."
   ]
  },
  {
   "cell_type": "markdown",
   "id": "c401ff88",
   "metadata": {},
   "source": [
    "#### By `phone`"
   ]
  },
  {
   "cell_type": "code",
   "execution_count": 63,
   "id": "fb8fc96b",
   "metadata": {},
   "outputs": [
    {
     "data": {
      "image/png": "[encoded data removed]",
      "text/plain": [
       "<Figure size 640x480 with 1 Axes>"
      ]
     },
     "metadata": {},
     "output_type": "display_data"
    }
   ],
   "source": [
    "phones = df.phone.unique()\n",
    "\n",
    "plot_bar_by_activity(phones, make_activity_cat_dict(df, phones, 'phone'),\n",
    "                     title=\"Number of users using each phone grouped by activity\",\n",
    "                     legend_loc=\"upper right\",\n",
    "                     xlabel=\"Phone types\",\n",
    "                     ylabel=\"Number of users\",\n",
    "                     width=0.25)"
   ]
  },
  {
   "cell_type": "markdown",
   "id": "bb9d11e6",
   "metadata": {},
   "source": [
    "Our Android users are not very active."
   ]
  },
  {
   "cell_type": "markdown",
   "id": "00c4b772",
   "metadata": {},
   "source": [
    "#### By `surge_pct`"
   ]
  },
  {
   "cell_type": "code",
   "execution_count": 64,
   "id": "8a26e8a0",
   "metadata": {},
   "outputs": [
    {
     "data": {
      "text/plain": [
       "count    31196.000000\n",
       "mean         8.666739\n",
       "std         22.179139\n",
       "min          0.000000\n",
       "25%          0.000000\n",
       "50%          0.000000\n",
       "75%          0.000000\n",
       "max        100.000000\n",
       "Name: surge_pct, dtype: float64"
      ]
     },
     "execution_count": 64,
     "metadata": {},
     "output_type": "execute_result"
    }
   ],
   "source": [
    "df[df['active'] == 0]['surge_pct'].describe()"
   ]
  },
  {
   "cell_type": "code",
   "execution_count": 65,
   "id": "fce57d5e",
   "metadata": {},
   "outputs": [
    {
     "data": {
      "text/plain": [
       "count    18804.000000\n",
       "mean         9.152797\n",
       "std         15.588704\n",
       "min          0.000000\n",
       "25%          0.000000\n",
       "50%          0.000000\n",
       "75%         13.300000\n",
       "max        100.000000\n",
       "Name: surge_pct, dtype: float64"
      ]
     },
     "execution_count": 65,
     "metadata": {},
     "output_type": "execute_result"
    }
   ],
   "source": [
    "df[df['active'] == 1]['surge_pct'].describe()"
   ]
  },
  {
   "cell_type": "markdown",
   "id": "1d1e961a",
   "metadata": {},
   "source": [
    "Most of the `surge_pct` seems to be 0, regardless of whether the user is active or not."
   ]
  },
  {
   "cell_type": "code",
   "execution_count": 66,
   "id": "ee4c8287",
   "metadata": {},
   "outputs": [
    {
     "data": {
      "text/plain": [
       "0.7914796768816514"
      ]
     },
     "execution_count": 66,
     "metadata": {},
     "output_type": "execute_result"
    }
   ],
   "source": [
    "len(df[(df['active'] == 0) & (df['surge_pct'] == 0)]['surge_pct']) / len(df[(df['active'] == 0)])"
   ]
  },
  {
   "cell_type": "code",
   "execution_count": 67,
   "id": "3d705bab",
   "metadata": {},
   "outputs": [
    {
     "data": {
      "text/plain": [
       "0.5168049351201872"
      ]
     },
     "execution_count": 67,
     "metadata": {},
     "output_type": "execute_result"
    }
   ],
   "source": [
    "len(df[(df['active'] == 1) & (df['surge_pct'] == 0)]['surge_pct']) / len(df[(df['active'] == 1)])"
   ]
  },
  {
   "cell_type": "markdown",
   "id": "97ed8f54",
   "metadata": {},
   "source": [
    "However, there is a slightly larger percentage of users who are active that have a nonzero `surge_pct`. In other words, active users tend to be more likely to order a trip during high surge, but we don't know the number of trips that each user ordered, so we don't know if they have more surge trips because they also order more trips in general."
   ]
  },
  {
   "cell_type": "markdown",
   "id": "8682a91a",
   "metadata": {},
   "source": [
    "#### By `ultimate_black_user`"
   ]
  },
  {
   "cell_type": "code",
   "execution_count": 68,
   "id": "f1a0842d",
   "metadata": {},
   "outputs": [
    {
     "data": {
      "image/png": "[encoded data removed]",
      "text/plain": [
       "<Figure size 640x480 with 1 Axes>"
      ]
     },
     "metadata": {},
     "output_type": "display_data"
    }
   ],
   "source": [
    "ub_not_ub_TF = df.ultimate_black_user.unique()\n",
    "\n",
    "plot_bar_by_activity(['UB' if i else 'Not UB' for i in ub_not_ub_TF],\n",
    "                     make_activity_cat_dict(df, ub_not_ub_TF, 'ultimate_black_user'),\n",
    "                     legend_loc=\"upper left\",\n",
    "                     xlabel=\"Ultimate Black user types\",\n",
    "                     ylabel=\"Number of users\",\n",
    "                     width=0.25)"
   ]
  },
  {
   "cell_type": "markdown",
   "id": "b739cb34",
   "metadata": {},
   "source": [
    "Our Ultimate Black users tend to remain active."
   ]
  },
  {
   "cell_type": "markdown",
   "id": "2f0ea51b",
   "metadata": {},
   "source": [
    "#### By `weekday_pct`"
   ]
  },
  {
   "cell_type": "code",
   "execution_count": 69,
   "id": "605f4e0f",
   "metadata": {},
   "outputs": [
    {
     "data": {
      "image/png": "[encoded data removed]",
      "text/plain": [
       "<Figure size 640x480 with 1 Axes>"
      ]
     },
     "metadata": {},
     "output_type": "display_data"
    }
   ],
   "source": [
    "plot_box_by_activity(df[df['active'] == 0]['weekday_pct'].values,\n",
    "                     df[df['active'] == 1]['weekday_pct'].values,\n",
    "                     title=\"Box plot of percentage of weekday trips\",\n",
    "                     xlabel=\"User activity\",\n",
    "                     ylabel=\"Percentage of weekday trips\")"
   ]
  },
  {
   "cell_type": "markdown",
   "id": "8b2de02e",
   "metadata": {},
   "source": [
    "Active users have a lower median of `weekday_pct`, but their distribution is more tightly centered around having half or more weekday trips. Inactive users tend to be more diverse in their days of the week."
   ]
  },
  {
   "cell_type": "markdown",
   "id": "7a55997d",
   "metadata": {},
   "source": [
    "#### By `avg_dist`"
   ]
  },
  {
   "cell_type": "code",
   "execution_count": 70,
   "id": "a92b6259",
   "metadata": {},
   "outputs": [
    {
     "data": {
      "text/plain": [
       "count    31195.000000\n",
       "mean         6.203974\n",
       "std          6.199348\n",
       "min          0.000000\n",
       "25%          2.320000\n",
       "50%          4.030000\n",
       "75%          7.800000\n",
       "max         79.690000\n",
       "Name: avg_dist, dtype: float64"
      ]
     },
     "execution_count": 70,
     "metadata": {},
     "output_type": "execute_result"
    }
   ],
   "source": [
    "df[(df['active'] == 0) & (df['avg_dist'] < 129)]['avg_dist'].describe()"
   ]
  },
  {
   "cell_type": "code",
   "execution_count": 71,
   "id": "c2a6b757",
   "metadata": {},
   "outputs": [
    {
     "data": {
      "text/plain": [
       "count    18803.000000\n",
       "mean         5.106500\n",
       "std          4.473158\n",
       "min          0.000000\n",
       "25%          2.560000\n",
       "50%          3.730000\n",
       "75%          5.890000\n",
       "max         79.340000\n",
       "Name: avg_dist, dtype: float64"
      ]
     },
     "execution_count": 71,
     "metadata": {},
     "output_type": "execute_result"
    }
   ],
   "source": [
    "df[(df['active'] == 1) & (df['avg_dist'] < 160)]['avg_dist'].describe()"
   ]
  },
  {
   "cell_type": "markdown",
   "id": "981c8ccd",
   "metadata": {},
   "source": [
    "Inactive users seem to travel longer distances, when disregarding the top outliers from both groups."
   ]
  },
  {
   "cell_type": "markdown",
   "id": "60828915",
   "metadata": {},
   "source": [
    "#### By `avg_rating_by_driver`"
   ]
  },
  {
   "cell_type": "code",
   "execution_count": 72,
   "id": "460d3a84",
   "metadata": {},
   "outputs": [
    {
     "data": {
      "image/png": "[encoded data removed]",
      "text/plain": [
       "<Figure size 640x480 with 1 Axes>"
      ]
     },
     "metadata": {},
     "output_type": "display_data"
    }
   ],
   "source": [
    "plot_box_by_activity(df[df['active'] == 0]['avg_rating_by_driver'].values,\n",
    "                     df[df['active'] == 1]['avg_rating_by_driver'].values,\n",
    "                     title=\"Box plot of average rating by driver\",\n",
    "                     xlabel=\"User activity\",\n",
    "                     ylabel=\"Average rating by driver in stars\")"
   ]
  },
  {
   "cell_type": "markdown",
   "id": "7c649e16",
   "metadata": {},
   "source": [
    "The inactive riders tend to have a higher average rating."
   ]
  },
  {
   "cell_type": "markdown",
   "id": "a9519fc6",
   "metadata": {},
   "source": [
    "### Summary"
   ]
  },
  {
   "cell_type": "markdown",
   "id": "37833335",
   "metadata": {},
   "source": [
    "Active users tended to follow these patterns:\n",
    "- `city`: King's Landing users were overall fewer in number, but they have a high ratio of remaining active.\n",
    "- `trips_in_first_30_days`: Active users ordered more trips in their first 30 days of signup.\n",
    "- `avg_rating_of_driver`: Active users tended to rate the drivers lower.\n",
    "- `phone`: iPhone users have a better ratio of active users to inactive users, being almost even.\n",
    "- `ultimate_black_user`: UB users tend to have a better ratio of active users than inactive users, being almost even, but there are also not that many UB users.\n",
    "- `weekday_pct`: Inactive users have a high distribution of weekday and non-weekday percentages, whereas active users tend have around 44-84% weekday percentages.\n",
    "- `avg_dist`: When disregarding outliers, active users tend to have shorter distance.\n",
    "- `avg_rating_by_driver`: Drivers tended to rate active users lower."
   ]
  },
  {
   "cell_type": "markdown",
   "id": "fd791722",
   "metadata": {},
   "source": [
    "## Preprocessing and Modeling"
   ]
  },
  {
   "cell_type": "markdown",
   "id": "ed780392",
   "metadata": {},
   "source": [
    "Our response variable $y$ is whether the user is `active` or not, making this a supervised classification problem."
   ]
  },
  {
   "cell_type": "markdown",
   "id": "1ccf1b1d",
   "metadata": {},
   "source": [
    "We have two categorical features that should be encoded: `city` and `phone`."
   ]
  },
  {
   "cell_type": "code",
   "execution_count": 73,
   "id": "da3b70b3",
   "metadata": {},
   "outputs": [],
   "source": [
    "df = df.astype({'city':'category','phone':'category'})"
   ]
  },
  {
   "cell_type": "code",
   "execution_count": 74,
   "id": "4afa1b6d",
   "metadata": {},
   "outputs": [
    {
     "name": "stdout",
     "output_type": "stream",
     "text": [
      "<class 'pandas.core.frame.DataFrame'>\n",
      "RangeIndex: 50000 entries, 0 to 49999\n",
      "Data columns (total 13 columns):\n",
      " #   Column                  Non-Null Count  Dtype         \n",
      "---  ------                  --------------  -----         \n",
      " 0   city                    50000 non-null  category      \n",
      " 1   trips_in_first_30_days  50000 non-null  int64         \n",
      " 2   signup_date             50000 non-null  datetime64[ns]\n",
      " 3   avg_rating_of_driver    50000 non-null  float64       \n",
      " 4   avg_surge               50000 non-null  float64       \n",
      " 5   last_trip_date          50000 non-null  datetime64[ns]\n",
      " 6   phone                   50000 non-null  category      \n",
      " 7   surge_pct               50000 non-null  float64       \n",
      " 8   ultimate_black_user     50000 non-null  bool          \n",
      " 9   weekday_pct             50000 non-null  float64       \n",
      " 10  avg_dist                50000 non-null  float64       \n",
      " 11  avg_rating_by_driver    50000 non-null  float64       \n",
      " 12  active                  50000 non-null  int64         \n",
      "dtypes: bool(1), category(2), datetime64[ns](2), float64(6), int64(2)\n",
      "memory usage: 4.0 MB\n"
     ]
    }
   ],
   "source": [
    "df.info()"
   ]
  },
  {
   "cell_type": "code",
   "execution_count": 75,
   "id": "bf3b509a",
   "metadata": {},
   "outputs": [
    {
     "name": "stdout",
     "output_type": "stream",
     "text": [
      "<class 'pandas.core.frame.DataFrame'>\n",
      "RangeIndex: 50000 entries, 0 to 49999\n",
      "Data columns (total 16 columns):\n",
      " #   Column                  Non-Null Count  Dtype         \n",
      "---  ------                  --------------  -----         \n",
      " 0   trips_in_first_30_days  50000 non-null  int64         \n",
      " 1   signup_date             50000 non-null  datetime64[ns]\n",
      " 2   avg_rating_of_driver    50000 non-null  float64       \n",
      " 3   avg_surge               50000 non-null  float64       \n",
      " 4   last_trip_date          50000 non-null  datetime64[ns]\n",
      " 5   surge_pct               50000 non-null  float64       \n",
      " 6   ultimate_black_user     50000 non-null  bool          \n",
      " 7   weekday_pct             50000 non-null  float64       \n",
      " 8   avg_dist                50000 non-null  float64       \n",
      " 9   avg_rating_by_driver    50000 non-null  float64       \n",
      " 10  active                  50000 non-null  int64         \n",
      " 11  city_Astapor            50000 non-null  uint8         \n",
      " 12  city_King's Landing     50000 non-null  uint8         \n",
      " 13  city_Winterfell         50000 non-null  uint8         \n",
      " 14  phone_Android           50000 non-null  uint8         \n",
      " 15  phone_iPhone            50000 non-null  uint8         \n",
      "dtypes: bool(1), datetime64[ns](2), float64(6), int64(2), uint8(5)\n",
      "memory usage: 4.1 MB\n"
     ]
    }
   ],
   "source": [
    "# The first time I ran through models, I had drop_first=True\n",
    "# I tested without it because I thought the interpretation might be a bit easier for me\n",
    "# It turned out that having drop_first=True resulted in the same or slightly worse results for the models\n",
    "#enc_df = pd.get_dummies(df, drop_first=True)\n",
    "enc_df = pd.get_dummies(df)\n",
    "enc_df.info()"
   ]
  },
  {
   "cell_type": "code",
   "execution_count": 76,
   "id": "798e7b3c",
   "metadata": {},
   "outputs": [
    {
     "name": "stdout",
     "output_type": "stream",
     "text": [
      "(50000, 13) (50000,)\n"
     ]
    }
   ],
   "source": [
    "X = enc_df.drop(columns=['signup_date', 'last_trip_date', 'active'])\n",
    "y = enc_df['active'].values\n",
    "print(X.shape, y.shape)"
   ]
  },
  {
   "cell_type": "code",
   "execution_count": 77,
   "id": "92ecea21",
   "metadata": {},
   "outputs": [],
   "source": [
    "X_train, X_test, y_train, y_test = train_test_split(X, y, test_size=0.3, random_state=23)"
   ]
  },
  {
   "cell_type": "code",
   "execution_count": 78,
   "id": "fa0b5d23",
   "metadata": {},
   "outputs": [],
   "source": [
    "def get_score(clf, X_train, y_train, X_test, y_test):\n",
    "    \"\"\"\n",
    "    Simply returns an accuracy score of the classifier.\n",
    "    \n",
    "    clf : Classifier that should adhere to sklearn Pipeline.\n",
    "    X_train : X for training.\n",
    "    y_train : y for training.\n",
    "    X_test : Test X for validation.\n",
    "    y_test : Test y for validation.\n",
    "    \"\"\"\n",
    "    pipe = make_pipeline(StandardScaler(), clf)\n",
    "    pipe = pipe.fit(X_train, y_train)\n",
    "    return pipe.score(X_test, y_test)"
   ]
  },
  {
   "cell_type": "code",
   "execution_count": 79,
   "id": "e1d8ed49",
   "metadata": {},
   "outputs": [],
   "source": [
    "score_dict = {}\n",
    "classifiers = {'LogisticRegression': LogisticRegression(random_state=23),\n",
    "              'LinearSVC': svm.LinearSVC(),\n",
    "              'KNClassifier': KNeighborsClassifier(),\n",
    "              'RFClassifier': RandomForestClassifier()}"
   ]
  },
  {
   "cell_type": "code",
   "execution_count": 80,
   "id": "08454566",
   "metadata": {},
   "outputs": [
    {
     "name": "stderr",
     "output_type": "stream",
     "text": [
      "C:\\Users\\chian\\anaconda3\\lib\\site-packages\\sklearn\\svm\\_base.py:1206: ConvergenceWarning: Liblinear failed to converge, increase the number of iterations.\n",
      "  warnings.warn(\n",
      "C:\\Users\\chian\\anaconda3\\lib\\site-packages\\sklearn\\neighbors\\_classification.py:228: FutureWarning: Unlike other reduction functions (e.g. `skew`, `kurtosis`), the default behavior of `mode` typically preserves the axis it acts along. In SciPy 1.11.0, this behavior will change: the default value of `keepdims` will become False, the `axis` over which the statistic is taken will be eliminated, and the value None will no longer be accepted. Set `keepdims` to True or False to avoid this warning.\n",
      "  mode, _ = stats.mode(_y[neigh_ind, k], axis=1)\n"
     ]
    }
   ],
   "source": [
    "for clf_name, clf in classifiers.items():\n",
    "    score_dict[clf_name] = get_score(clf, X_train, y_train, X_test, y_test)"
   ]
  },
  {
   "cell_type": "code",
   "execution_count": 81,
   "id": "aff25732",
   "metadata": {},
   "outputs": [
    {
     "data": {
      "text/plain": [
       "RFClassifier          0.758400\n",
       "KNClassifier          0.747333\n",
       "LinearSVC             0.717667\n",
       "LogisticRegression    0.716133\n",
       "dtype: float64"
      ]
     },
     "execution_count": 81,
     "metadata": {},
     "output_type": "execute_result"
    }
   ],
   "source": [
    "pd.Series(score_dict).sort_values(ascending=False)"
   ]
  },
  {
   "cell_type": "markdown",
   "id": "593ae18a",
   "metadata": {},
   "source": [
    "We'll try the `RandomForestClassifier`. These were done with default values, so there is more that could be done with the others."
   ]
  },
  {
   "cell_type": "code",
   "execution_count": 82,
   "id": "a032edc8",
   "metadata": {},
   "outputs": [],
   "source": [
    "rfc_pipe = Pipeline(steps=[('scaler',StandardScaler()),\n",
    "                           ('rfc', RandomForestClassifier(criterion='entropy', n_jobs=-1, random_state=23))])\n",
    "params = {'rfc__n_estimators': [100, 200, 250],\n",
    "         'rfc__max_features': ['sqrt', 1.0]}"
   ]
  },
  {
   "cell_type": "code",
   "execution_count": 83,
   "id": "27d77b4a",
   "metadata": {},
   "outputs": [],
   "source": [
    "gridCV = GridSearchCV(estimator=rfc_pipe, param_grid=params)"
   ]
  },
  {
   "cell_type": "code",
   "execution_count": 84,
   "id": "fb9c9ce6",
   "metadata": {
    "scrolled": false
   },
   "outputs": [
    {
     "data": {
      "text/plain": [
       "GridSearchCV(estimator=Pipeline(steps=[('scaler', StandardScaler()),\n",
       "                                       ('rfc',\n",
       "                                        RandomForestClassifier(criterion='entropy',\n",
       "                                                               n_jobs=-1,\n",
       "                                                               random_state=23))]),\n",
       "             param_grid={'rfc__max_features': ['sqrt', 1.0],\n",
       "                         'rfc__n_estimators': [100, 200, 250]})"
      ]
     },
     "execution_count": 84,
     "metadata": {},
     "output_type": "execute_result"
    }
   ],
   "source": [
    "gridCV.fit(X_train, y_train)"
   ]
  },
  {
   "cell_type": "code",
   "execution_count": 85,
   "id": "5f5d528c",
   "metadata": {},
   "outputs": [
    {
     "data": {
      "text/plain": [
       "{'rfc__max_features': 1.0, 'rfc__n_estimators': 250}"
      ]
     },
     "execution_count": 85,
     "metadata": {},
     "output_type": "execute_result"
    }
   ],
   "source": [
    "gridCV.best_params_"
   ]
  },
  {
   "cell_type": "code",
   "execution_count": 86,
   "id": "fd329ffb",
   "metadata": {},
   "outputs": [
    {
     "data": {
      "text/plain": [
       "0.7591428571428572"
      ]
     },
     "execution_count": 86,
     "metadata": {},
     "output_type": "execute_result"
    }
   ],
   "source": [
    "gridCV.best_score_"
   ]
  },
  {
   "cell_type": "code",
   "execution_count": 87,
   "id": "a99820df",
   "metadata": {},
   "outputs": [
    {
     "data": {
      "text/html": [
       "<div>\n",
       "<style scoped>\n",
       "    .dataframe tbody tr th:only-of-type {\n",
       "        vertical-align: middle;\n",
       "    }\n",
       "\n",
       "    .dataframe tbody tr th {\n",
       "        vertical-align: top;\n",
       "    }\n",
       "\n",
       "    .dataframe thead th {\n",
       "        text-align: right;\n",
       "    }\n",
       "</style>\n",
       "<table border=\"1\" class=\"dataframe\">\n",
       "  <thead>\n",
       "    <tr style=\"text-align: right;\">\n",
       "      <th></th>\n",
       "      <th>mean_fit_time</th>\n",
       "      <th>std_fit_time</th>\n",
       "      <th>mean_score_time</th>\n",
       "      <th>std_score_time</th>\n",
       "      <th>param_rfc__max_features</th>\n",
       "      <th>param_rfc__n_estimators</th>\n",
       "      <th>params</th>\n",
       "      <th>split0_test_score</th>\n",
       "      <th>split1_test_score</th>\n",
       "      <th>split2_test_score</th>\n",
       "      <th>split3_test_score</th>\n",
       "      <th>split4_test_score</th>\n",
       "      <th>mean_test_score</th>\n",
       "      <th>std_test_score</th>\n",
       "      <th>rank_test_score</th>\n",
       "    </tr>\n",
       "  </thead>\n",
       "  <tbody>\n",
       "    <tr>\n",
       "      <th>0</th>\n",
       "      <td>1.538672</td>\n",
       "      <td>1.434742</td>\n",
       "      <td>0.060926</td>\n",
       "      <td>0.011074</td>\n",
       "      <td>sqrt</td>\n",
       "      <td>100</td>\n",
       "      <td>{'rfc__max_features': 'sqrt', 'rfc__n_estimato...</td>\n",
       "      <td>0.751000</td>\n",
       "      <td>0.750857</td>\n",
       "      <td>0.754714</td>\n",
       "      <td>0.753857</td>\n",
       "      <td>0.752857</td>\n",
       "      <td>0.752657</td>\n",
       "      <td>0.001530</td>\n",
       "      <td>6</td>\n",
       "    </tr>\n",
       "    <tr>\n",
       "      <th>1</th>\n",
       "      <td>1.512910</td>\n",
       "      <td>0.038458</td>\n",
       "      <td>0.086359</td>\n",
       "      <td>0.003608</td>\n",
       "      <td>sqrt</td>\n",
       "      <td>200</td>\n",
       "      <td>{'rfc__max_features': 'sqrt', 'rfc__n_estimato...</td>\n",
       "      <td>0.749286</td>\n",
       "      <td>0.751429</td>\n",
       "      <td>0.757571</td>\n",
       "      <td>0.752857</td>\n",
       "      <td>0.752429</td>\n",
       "      <td>0.752714</td>\n",
       "      <td>0.002724</td>\n",
       "      <td>5</td>\n",
       "    </tr>\n",
       "    <tr>\n",
       "      <th>2</th>\n",
       "      <td>1.842718</td>\n",
       "      <td>0.080280</td>\n",
       "      <td>0.112691</td>\n",
       "      <td>0.010172</td>\n",
       "      <td>sqrt</td>\n",
       "      <td>250</td>\n",
       "      <td>{'rfc__max_features': 'sqrt', 'rfc__n_estimato...</td>\n",
       "      <td>0.750143</td>\n",
       "      <td>0.751714</td>\n",
       "      <td>0.757857</td>\n",
       "      <td>0.753571</td>\n",
       "      <td>0.753571</td>\n",
       "      <td>0.753371</td>\n",
       "      <td>0.002583</td>\n",
       "      <td>4</td>\n",
       "    </tr>\n",
       "    <tr>\n",
       "      <th>3</th>\n",
       "      <td>1.759162</td>\n",
       "      <td>0.048947</td>\n",
       "      <td>0.064087</td>\n",
       "      <td>0.015958</td>\n",
       "      <td>1.0</td>\n",
       "      <td>100</td>\n",
       "      <td>{'rfc__max_features': 1.0, 'rfc__n_estimators'...</td>\n",
       "      <td>0.749571</td>\n",
       "      <td>0.759571</td>\n",
       "      <td>0.760000</td>\n",
       "      <td>0.757143</td>\n",
       "      <td>0.756571</td>\n",
       "      <td>0.756571</td>\n",
       "      <td>0.003744</td>\n",
       "      <td>3</td>\n",
       "    </tr>\n",
       "    <tr>\n",
       "      <th>4</th>\n",
       "      <td>3.353120</td>\n",
       "      <td>0.229272</td>\n",
       "      <td>0.105707</td>\n",
       "      <td>0.013171</td>\n",
       "      <td>1.0</td>\n",
       "      <td>200</td>\n",
       "      <td>{'rfc__max_features': 1.0, 'rfc__n_estimators'...</td>\n",
       "      <td>0.752143</td>\n",
       "      <td>0.758857</td>\n",
       "      <td>0.763000</td>\n",
       "      <td>0.760429</td>\n",
       "      <td>0.759143</td>\n",
       "      <td>0.758714</td>\n",
       "      <td>0.003597</td>\n",
       "      <td>2</td>\n",
       "    </tr>\n",
       "    <tr>\n",
       "      <th>5</th>\n",
       "      <td>4.041626</td>\n",
       "      <td>0.272611</td>\n",
       "      <td>0.114654</td>\n",
       "      <td>0.013173</td>\n",
       "      <td>1.0</td>\n",
       "      <td>250</td>\n",
       "      <td>{'rfc__max_features': 1.0, 'rfc__n_estimators'...</td>\n",
       "      <td>0.752857</td>\n",
       "      <td>0.759429</td>\n",
       "      <td>0.763286</td>\n",
       "      <td>0.760857</td>\n",
       "      <td>0.759286</td>\n",
       "      <td>0.759143</td>\n",
       "      <td>0.003456</td>\n",
       "      <td>1</td>\n",
       "    </tr>\n",
       "  </tbody>\n",
       "</table>\n",
       "</div>"
      ],
      "text/plain": [
       "   mean_fit_time  std_fit_time  mean_score_time  std_score_time  \\\n",
       "0       1.538672      1.434742         0.060926        0.011074   \n",
       "1       1.512910      0.038458         0.086359        0.003608   \n",
       "2       1.842718      0.080280         0.112691        0.010172   \n",
       "3       1.759162      0.048947         0.064087        0.015958   \n",
       "4       3.353120      0.229272         0.105707        0.013171   \n",
       "5       4.041626      0.272611         0.114654        0.013173   \n",
       "\n",
       "  param_rfc__max_features param_rfc__n_estimators  \\\n",
       "0                    sqrt                     100   \n",
       "1                    sqrt                     200   \n",
       "2                    sqrt                     250   \n",
       "3                     1.0                     100   \n",
       "4                     1.0                     200   \n",
       "5                     1.0                     250   \n",
       "\n",
       "                                              params  split0_test_score  \\\n",
       "0  {'rfc__max_features': 'sqrt', 'rfc__n_estimato...           0.751000   \n",
       "1  {'rfc__max_features': 'sqrt', 'rfc__n_estimato...           0.749286   \n",
       "2  {'rfc__max_features': 'sqrt', 'rfc__n_estimato...           0.750143   \n",
       "3  {'rfc__max_features': 1.0, 'rfc__n_estimators'...           0.749571   \n",
       "4  {'rfc__max_features': 1.0, 'rfc__n_estimators'...           0.752143   \n",
       "5  {'rfc__max_features': 1.0, 'rfc__n_estimators'...           0.752857   \n",
       "\n",
       "   split1_test_score  split2_test_score  split3_test_score  split4_test_score  \\\n",
       "0           0.750857           0.754714           0.753857           0.752857   \n",
       "1           0.751429           0.757571           0.752857           0.752429   \n",
       "2           0.751714           0.757857           0.753571           0.753571   \n",
       "3           0.759571           0.760000           0.757143           0.756571   \n",
       "4           0.758857           0.763000           0.760429           0.759143   \n",
       "5           0.759429           0.763286           0.760857           0.759286   \n",
       "\n",
       "   mean_test_score  std_test_score  rank_test_score  \n",
       "0         0.752657        0.001530                6  \n",
       "1         0.752714        0.002724                5  \n",
       "2         0.753371        0.002583                4  \n",
       "3         0.756571        0.003744                3  \n",
       "4         0.758714        0.003597                2  \n",
       "5         0.759143        0.003456                1  "
      ]
     },
     "execution_count": 87,
     "metadata": {},
     "output_type": "execute_result"
    }
   ],
   "source": [
    "pd.DataFrame(gridCV.cv_results_)"
   ]
  },
  {
   "cell_type": "code",
   "execution_count": 88,
   "id": "0644cbc4",
   "metadata": {},
   "outputs": [],
   "source": [
    "from sklearn.metrics import RocCurveDisplay, ConfusionMatrixDisplay"
   ]
  },
  {
   "cell_type": "code",
   "execution_count": 89,
   "id": "6d75b426",
   "metadata": {},
   "outputs": [],
   "source": [
    "best_rfc = gridCV.best_estimator_"
   ]
  },
  {
   "cell_type": "code",
   "execution_count": 90,
   "id": "1d2b6954",
   "metadata": {},
   "outputs": [
    {
     "data": {
      "text/plain": [
       "0.7588"
      ]
     },
     "execution_count": 90,
     "metadata": {},
     "output_type": "execute_result"
    }
   ],
   "source": [
    "best_rfc.score(X_test, y_test)"
   ]
  },
  {
   "cell_type": "code",
   "execution_count": 91,
   "id": "5c089ab5",
   "metadata": {},
   "outputs": [
    {
     "name": "stderr",
     "output_type": "stream",
     "text": [
      "C:\\Users\\chian\\anaconda3\\lib\\site-packages\\sklearn\\svm\\_base.py:1206: ConvergenceWarning: Liblinear failed to converge, increase the number of iterations.\n",
      "  warnings.warn(\n"
     ]
    },
    {
     "data": {
      "image/png": "[encoded data removed]",
      "text/plain": [
       "<Figure size 640x480 with 1 Axes>"
      ]
     },
     "metadata": {},
     "output_type": "display_data"
    }
   ],
   "source": [
    "fig, ax = plt.subplots()\n",
    "\n",
    "scaler = StandardScaler().fit(X_train)\n",
    "X_train_sc = scaler.transform(X_train)\n",
    "X_test_sc = scaler.transform(X_test)\n",
    "\n",
    "rfc_roc_disp = RocCurveDisplay.from_estimator(best_rfc, X_test, y_test, ax=ax)\n",
    "ax.set_title(\"ROC Curve\")\n",
    "\n",
    "kn_clf = KNeighborsClassifier().fit(X_train_sc, y_train)\n",
    "kn_roc_disp = RocCurveDisplay.from_estimator(kn_clf, X_test_sc, y_test, ax=ax)\n",
    "\n",
    "lsvc_clf = svm.LinearSVC().fit(X_train_sc, y_train)\n",
    "lsvc_roc_disp = RocCurveDisplay.from_estimator(lsvc_clf, X_test_sc, y_test, ax=ax)\n",
    "\n",
    "_ = plt.show()"
   ]
  },
  {
   "cell_type": "code",
   "execution_count": 92,
   "id": "7cc2a6cb",
   "metadata": {},
   "outputs": [
    {
     "data": {
      "image/png": "[encoded data removed]",
      "text/plain": [
       "<Figure size 640x480 with 2 Axes>"
      ]
     },
     "metadata": {},
     "output_type": "display_data"
    }
   ],
   "source": [
    "fig, ax = plt.subplots()\n",
    "ConfusionMatrixDisplay.from_estimator(best_rfc, X_test, y_test, ax=ax)\n",
    "ax.set_title(\"Confusion matrix for user active state\")\n",
    "_ = plt.show()"
   ]
  },
  {
   "cell_type": "code",
   "execution_count": 93,
   "id": "5f834761",
   "metadata": {},
   "outputs": [],
   "source": [
    "imps = best_rfc['rfc'].feature_importances_\n",
    "std = np.std([tree.feature_importances_ for tree in best_rfc['rfc'].estimators_], axis=0)\n",
    "forest_imps = pd.Series(imps, index=gridCV.feature_names_in_)"
   ]
  },
  {
   "cell_type": "code",
   "execution_count": 94,
   "id": "cc7d6679",
   "metadata": {},
   "outputs": [
    {
     "data": {
      "image/png": "[encoded data removed]",
      "text/plain": [
       "<Figure size 640x480 with 1 Axes>"
      ]
     },
     "metadata": {},
     "output_type": "display_data"
    }
   ],
   "source": [
    "fig, ax = plt.subplots()\n",
    "forest_imps.plot.bar(yerr=std, ax=ax)\n",
    "ax.set_title(\"Feature importances using MDI\")\n",
    "ax.set_ylabel(\"Mean decrease in impurity\")\n",
    "fig.tight_layout()"
   ]
  },
  {
   "cell_type": "code",
   "execution_count": 95,
   "id": "05239ef4",
   "metadata": {},
   "outputs": [],
   "source": [
    "from sklearn.inspection import permutation_importance"
   ]
  },
  {
   "cell_type": "code",
   "execution_count": 96,
   "id": "82f9e7a4",
   "metadata": {},
   "outputs": [],
   "source": [
    "res = permutation_importance(best_rfc['rfc'], best_rfc['scaler'].transform(X_test), y_test, n_repeats=20, random_state=23)\n",
    "forest_permimps = pd.Series(res.importances_mean, index=gridCV.feature_names_in_)"
   ]
  },
  {
   "cell_type": "code",
   "execution_count": 97,
   "id": "2e6dc92d",
   "metadata": {},
   "outputs": [
    {
     "data": {
      "image/png": "[encoded data removed]",
      "text/plain": [
       "<Figure size 640x480 with 1 Axes>"
      ]
     },
     "metadata": {},
     "output_type": "display_data"
    }
   ],
   "source": [
    "fig, ax = plt.subplots()\n",
    "forest_permimps.plot.bar(yerr=res.importances_std, ax=ax)\n",
    "ax.set_title(\"Feature importances using permutation on full model\")\n",
    "ax.set_ylabel(\"Mean accuracy decrease\")\n",
    "fig.tight_layout()\n",
    "plt.show()"
   ]
  },
  {
   "cell_type": "markdown",
   "id": "124e5211",
   "metadata": {},
   "source": [
    "## Conclusion"
   ]
  },
  {
   "cell_type": "markdown",
   "id": "8ccbb7c2",
   "metadata": {},
   "source": [
    "The fraction of users retained was 18804/50000 (37.6%), where a user is defined as retained/active is if their `last_trip_date` was within the last 30 days of the dataset window. This means that our dataset is mildly imbalanced, but it was not too troublesome for the models. I tested with the original dataset, and I tested with a downsampled dataset (of a factor of about 1.5), but the former was better or just fine in most models, so I deemed the loss of information not worth the imbalance."
   ]
  },
  {
   "cell_type": "markdown",
   "id": "5555e1b6",
   "metadata": {},
   "source": [
    "I tested a few models out of the box (LogisticRegression, LinearSVC, KNeighborsClassifier, and RandomForestClassifier), and as such, there can be more experimentation done on them all, but I chose to tune the RandomForestClassifier further. In the initial baseline, they actually all had pretty decent accuracy.\n",
    "\n",
    "| Name | Acc Score |\n",
    "| --- | --- |\n",
    "| RFClassifier | 0.7563 |\n",
    "| KNClassifier | 0.7473 |\n",
    "| LinearSVC | 0.7177 |\n",
    "| LogisticRegression | 0.7161 |\n",
    "\n",
    "The tuning did not improve performance by an extraordinary amount, only by about 0.0025, at a score of 0.7588, and the AUC came out to be 0.82, only 0.03 higher than that of the next best. The RandomForestClassifier is a bit slow to train, but we don't have that many features, so it actually did not take too long. When looking at the confusion matrix, the class imbalance is clear."
   ]
  },
  {
   "cell_type": "markdown",
   "id": "a2baf9c3",
   "metadata": {},
   "source": [
    "The feature importances were also examined. The random forest classifier's feature importances attribute top three seemed to be `avg_dist`, `avg_rating_by_driver`, and `weekday_pct`, whereas the top three from permutation importances were found to be the `avg_rating_by_driver`, `city_King's Landing`, and `weekday_pct`. From the EDA, I thought that `city`, `weekday_pct`, and `phone` would be among the most important features. The `avg_rating_by_driver` is a bit strange to me, but it does make sense because of how different the active and inactive distributions looked. (I suspect this feature actually expresses something else that is not explicitly present in the dataset--I am pretty sure that these inactive users having high, solid averages actually relates to the number of trips that they have had and to an overall rating behavior by the drivers, but this is mere speculation. I could speculate about that for ages.) The `avg_dist` was another feature that had a visible difference in distribution, so it also makes sense why the model might think it important."
   ]
  },
  {
   "cell_type": "markdown",
   "id": "581c3ca9",
   "metadata": {},
   "source": [
    "For long-term rider retention, finding a way to encourage frequent short travels may be a good thing. I think the `avg_dist`, `avg_rating_by_driver`, and `weekday_pct` may hint at the behaviors of active and inactive riders. As I speculated above, a lower `avg_rating_by_driver` for active users probably actually has to do with the frequency that these active users have ordered trips. A shorter `avg_dist` and higher `weekday_pct` also hint to me about higher frequency of rides and shorter distance rides; I think they may have to do with a routine user. There are some other behavioral guesses that I could make about these types of riders: perhaps active users are frequent users who have to use the service often and therefore take more things about the drivers for granted as opposed to someone treating some less-experienced-experience as more unique or with more courtesy and care, or perhaps active users tip less because they use the service so much already, or perhaps people who use it routinely are using it for school or work and so are less happy or friendly than someone who is looking for a ride while on vacation or to drive to the airport. As for the `city`, I suspect \"King's Landing\" could either have a more affluent demographic (admittedly could be biased in associating \"King\" with affluence) or a more metropolitan environment where ridesharing would be more convenient than having your own vehicle. Whatever the reason may be, it could be worth it to research more into King's Landing or try to increase the user base in that location, especially since King's Landing has the least amount of users of the three cities (though again, this could also relate to the location characteristics, for instance population size)."
   ]
  }
 ],
 "metadata": {
  "kernelspec": {
   "display_name": "Python 3 (ipykernel)",
   "language": "python",
   "name": "python3"
  },
  "language_info": {
   "codemirror_mode": {
    "name": "ipython",
    "version": 3
   },
   "file_extension": ".py",
   "mimetype": "text/x-python",
   "name": "python",
   "nbconvert_exporter": "python",
   "pygments_lexer": "ipython3",
   "version": "3.9.13"
  },
  "toc": {
   "base_numbering": 1,
   "nav_menu": {},
   "number_sections": false,
   "sideBar": true,
   "skip_h1_title": false,
   "title_cell": "Table of Contents",
   "title_sidebar": "Contents",
   "toc_cell": false,
   "toc_position": {
    "height": "calc(100% - 180px)",
    "left": "10px",
    "top": "150px",
    "width": "399px"
   },
   "toc_section_display": true,
   "toc_window_display": true
  }
 },
 "nbformat": 4,
 "nbformat_minor": 5
}
