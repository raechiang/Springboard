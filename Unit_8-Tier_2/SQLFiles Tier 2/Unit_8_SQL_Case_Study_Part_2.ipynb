{
 "cells": [
  {
   "cell_type": "markdown",
   "id": "c39a6aa1",
   "metadata": {},
   "source": [
    "# Unit 8 SQL Case Study Part 2: SQLite\n",
    "\n",
    "Export the country club data from PHPMyAdmin, and connect to a local SQLite instance from Jupyter notebook\n",
    "for the following questions."
   ]
  },
  {
   "cell_type": "markdown",
   "id": "ac2f718d",
   "metadata": {},
   "source": [
    "QUESTIONS:\n",
    " - Q10: Produce a list of facilities with a total revenue less than 1000. The output of facility name and total revenue, sorted by revenue. Remember that there's a different cost for guests and members!\n",
    " - Q11: Produce a report of members and who recommended them in alphabetic surname,firstname order\n",
    " - Q12: Find the facilities with their usage by member, but not guests\n",
    " - Q13: Find the facilities usage by month, but not guests"
   ]
  },
  {
   "cell_type": "code",
   "execution_count": 1,
   "id": "03b24c76",
   "metadata": {},
   "outputs": [],
   "source": [
    "# Import packages and functions\n",
    "from sqlalchemy import create_engine\n",
    "from sqlalchemy import inspect\n",
    "import pandas as pd"
   ]
  },
  {
   "cell_type": "code",
   "execution_count": 2,
   "id": "4ff18097",
   "metadata": {},
   "outputs": [
    {
     "name": "stdout",
     "output_type": "stream",
     "text": [
      "['Bookings', 'Facilities', 'Members']\n"
     ]
    }
   ],
   "source": [
    "# Create engine, connecting to the file provided\n",
    "engine = create_engine('sqlite:///sqlite_db_pythonsqlite.db')\n",
    "\n",
    "print(inspect(engine).get_table_names())\n",
    "\n",
    "def collect_data(query, con):\n",
    "    \"\"\"\n",
    "    Accepts a query and connection to return a DataFrame with labeled columns that represents the table.\n",
    "    \"\"\"\n",
    "    rs = con.execute(query)\n",
    "    df = pd.DataFrame(rs.fetchall())\n",
    "    df.columns = rs.keys()\n",
    "    return df"
   ]
  },
  {
   "cell_type": "code",
   "execution_count": 2,
   "id": "880e6836",
   "metadata": {
    "scrolled": false
   },
   "outputs": [
    {
     "name": "stdout",
     "output_type": "stream",
     "text": [
      "['Bookings', 'Facilities', 'Members']\n",
      "   memid   surname firstname                       address  zipcode  \\\n",
      "0      0     GUEST     GUEST                         GUEST        0   \n",
      "1      1     Smith    Darren    8 Bloomsbury Close, Boston     4321   \n",
      "2      2     Smith     Tracy  8 Bloomsbury Close, New York     4321   \n",
      "3      3    Rownam       Tim        23 Highway Way, Boston    23423   \n",
      "4      4  Joplette    Janice    20 Crossing Road, New York      234   \n",
      "\n",
      "        telephone recommendedby             joindate  \n",
      "0  (000) 000-0000                2012-07-01 00:00:00  \n",
      "1    555-555-5555                2012-07-02 12:02:05  \n",
      "2    555-555-5555                2012-07-02 12:08:23  \n",
      "3  (844) 693-0723                2012-07-03 09:32:15  \n",
      "4  (833) 942-4710             1  2012-07-03 10:25:05  \n",
      "   bookid  facid  memid            starttime  slots\n",
      "0       0      3      1  2012-07-03 11:00:00      2\n",
      "1       1      4      1  2012-07-03 08:00:00      2\n",
      "2       2      6      0  2012-07-03 18:00:00      2\n",
      "3       3      7      1  2012-07-03 19:00:00      2\n",
      "4       4      8      1  2012-07-03 10:00:00      1\n",
      "   facid             name  membercost  guestcost  initialoutlay  \\\n",
      "0      0   Tennis Court 1         5.0       25.0          10000   \n",
      "1      1   Tennis Court 2         5.0       25.0           8000   \n",
      "2      2  Badminton Court         0.0       15.5           4000   \n",
      "3      3     Table Tennis         0.0        5.0            320   \n",
      "4      4   Massage Room 1         9.9       80.0           4000   \n",
      "\n",
      "   monthlymaintenance  \n",
      "0                 200  \n",
      "1                 200  \n",
      "2                  50  \n",
      "3                  10  \n",
      "4                3000  \n",
      "True\n"
     ]
    }
   ],
   "source": [
    "# Context manager to collect data into DataFrames\n",
    "#with engine.connect() as con:\n",
    "#    members_df = collect_data(\"SELECT * FROM Members\", con)\n",
    "#    bookings_df = collect_data(\"SELECT * From Bookings\", con)\n",
    "#    facilities_df = collect_data(\"SELECT * From Facilities\", con)\n",
    "\n",
    "#print(members_df.head())\n",
    "#print(bookings_df.head())\n",
    "#print(facilities_df.head())\n",
    "\n",
    "#print(con.closed)"
   ]
  },
  {
   "cell_type": "markdown",
   "id": "12ef9b78",
   "metadata": {},
   "source": [
    "## Q10\n",
    "Produce a list of facilities with a total revenue less than 1000. The output of facility name and total revenue, sorted by revenue. Remember that there's a different cost for guests and members!"
   ]
  },
  {
   "cell_type": "code",
   "execution_count": 3,
   "id": "b5552784",
   "metadata": {},
   "outputs": [
    {
     "name": "stdout",
     "output_type": "stream",
     "text": [
      "   facility_name  revenue\n",
      "0   Table Tennis      180\n",
      "1  Snooker Table      240\n",
      "2     Pool Table      270\n"
     ]
    }
   ],
   "source": [
    "# Revenue for each facility = count bookings * slots * cost_type\n",
    "# Ordered by revenue\n",
    "# Output: facility_name, revenue\n",
    "with engine.connect() as con:\n",
    "    q10_query = \"\"\"SELECT Facilities.name AS facility_name,\n",
    "    SUM(CASE WHEN (Bookings.memid = 0) THEN (Bookings.slots * Facilities.guestcost)\n",
    "        ELSE (Bookings.slots * Facilities.membercost)\n",
    "        END) AS revenue\n",
    "    FROM Bookings\n",
    "    LEFT JOIN Facilities\n",
    "    ON Bookings.facid = Facilities.facid\n",
    "    GROUP BY Facilities.name\n",
    "    HAVING revenue < 1000\n",
    "    ORDER BY revenue;\"\"\"\n",
    "    q10_df = collect_data(q10_query, con)\n",
    "\n",
    "print(q10_df)"
   ]
  },
  {
   "cell_type": "markdown",
   "id": "62f2055d",
   "metadata": {},
   "source": [
    "## Q11\n",
    "Produce a report of members and who recommended them in alphabetic surname,firstname order"
   ]
  },
  {
   "cell_type": "code",
   "execution_count": 4,
   "id": "b17f863b",
   "metadata": {},
   "outputs": [
    {
     "name": "stdout",
     "output_type": "stream",
     "text": [
      "              surname  firstname rec_by_surname rec_by_firstname\n",
      "0               Bader   Florence       Stibbons           Ponder\n",
      "1               Baker       Anne       Stibbons           Ponder\n",
      "2               Baker    Timothy        Farrell           Jemima\n",
      "3              Boothe        Tim         Rownam              Tim\n",
      "4             Butters     Gerald          Smith           Darren\n",
      "5              Coplin       Joan          Baker          Timothy\n",
      "6             Crumpet      Erica          Smith            Tracy\n",
      "7                Dare      Nancy       Joplette           Janice\n",
      "8             Genting    Matthew        Butters           Gerald\n",
      "9                Hunt       John        Purview        Millicent\n",
      "10              Jones      David       Joplette           Janice\n",
      "11              Jones    Douglas          Jones            David\n",
      "12           Joplette     Janice          Smith           Darren\n",
      "13          Mackenzie       Anna          Smith           Darren\n",
      "14               Owen    Charles          Smith           Darren\n",
      "15             Pinker      David        Farrell           Jemima\n",
      "16            Purview  Millicent          Smith            Tracy\n",
      "17             Rumney  Henrietta        Genting          Matthew\n",
      "18             Sarwin  Ramnaresh          Bader         Florence\n",
      "19              Smith       Jack          Smith           Darren\n",
      "20           Stibbons     Ponder          Tracy           Burton\n",
      "21  Worthington-Smyth      Henry          Smith            Tracy\n",
      "22\n"
     ]
    }
   ],
   "source": [
    "q11_query = \"\"\"SELECT m1.surname, m1.firstname,\n",
    "m2.surname AS rec_by_surname, m2.firstname AS rec_by_firstname\n",
    "FROM Members AS m1\n",
    "INNER JOIN Members as m2\n",
    "ON m1.recommendedby = m2.memid\n",
    "ORDER BY m1.surname, m1.firstname;\"\"\"\n",
    "\n",
    "q11_df = pd.read_sql_query(q11_query, engine)\n",
    "print(q11_df)\n",
    "print(len(q11_df))"
   ]
  },
  {
   "cell_type": "markdown",
   "id": "71e87247",
   "metadata": {},
   "source": [
    "The above result does not include records that had missing values for recommendedby."
   ]
  },
  {
   "cell_type": "markdown",
   "id": "1257333d",
   "metadata": {},
   "source": [
    "## Q12\n",
    "Find the facilities with their usage by member, but not guests"
   ]
  },
  {
   "cell_type": "code",
   "execution_count": 5,
   "id": "54e1e958",
   "metadata": {},
   "outputs": [
    {
     "name": "stdout",
     "output_type": "stream",
     "text": [
      "              name  uses_by_member\n",
      "0   Tennis Court 1             308\n",
      "1   Tennis Court 2             276\n",
      "2  Badminton Court             344\n",
      "3     Table Tennis             385\n",
      "4   Massage Room 1             421\n",
      "5   Massage Room 2              27\n",
      "6     Squash Court             195\n",
      "7    Snooker Table             421\n",
      "8       Pool Table             783\n"
     ]
    }
   ],
   "source": [
    "q12_query = \"\"\"SELECT Facilities.name, COUNT(memid) AS uses_by_member\n",
    "FROM Bookings\n",
    "LEFT JOIN Facilities\n",
    "ON Bookings.facid = Facilities.facid\n",
    "WHERE memid <> 0\n",
    "GROUP BY Bookings.facid, Facilities.name\n",
    "ORDER BY Bookings.facid;\"\"\"\n",
    "\n",
    "q12_df = pd.read_sql_query(q12_query, engine)\n",
    "print(q12_df)"
   ]
  },
  {
   "cell_type": "markdown",
   "id": "5e7ff1e0",
   "metadata": {},
   "source": [
    "## Q13\n",
    "Find the facilities usage by month, but not guests"
   ]
  },
  {
   "cell_type": "code",
   "execution_count": 6,
   "id": "5ecc2377",
   "metadata": {},
   "outputs": [
    {
     "name": "stdout",
     "output_type": "stream",
     "text": [
      "      facility_name      month  total_books\n",
      "0   Badminton Court     August          146\n",
      "1   Badminton Court       July           56\n",
      "2   Badminton Court  September          181\n",
      "3    Massage Room 1     August          224\n",
      "4    Massage Room 1       July          123\n",
      "5    Massage Room 1  September          282\n",
      "6    Massage Room 2     August           40\n",
      "7    Massage Room 2       July           12\n",
      "8    Massage Room 2  September           59\n",
      "9        Pool Table     August          291\n",
      "10       Pool Table       July          110\n",
      "11       Pool Table  September          435\n",
      "12    Snooker Table     August          159\n",
      "13    Snooker Table       July           75\n",
      "14    Snooker Table  September          210\n",
      "15     Squash Court     August          170\n",
      "16     Squash Court       July           75\n",
      "17     Squash Court  September          195\n",
      "18     Table Tennis     August          147\n",
      "19     Table Tennis       July           51\n",
      "20     Table Tennis  September          205\n",
      "21   Tennis Court 1     August          146\n",
      "22   Tennis Court 1       July           88\n",
      "23   Tennis Court 1  September          174\n",
      "24   Tennis Court 2     August          149\n",
      "25   Tennis Court 2       July           68\n",
      "26   Tennis Court 2  September          172\n"
     ]
    }
   ],
   "source": [
    "q13_query = \"\"\"SELECT Facilities.name AS facility_name,\n",
    "    CASE WHEN (Bookings.starttime LIKE '2012-07%') THEN 'July'\n",
    "    WHEN (Bookings.starttime LIKE '2012-08%') THEN 'August'\n",
    "    WHEN (Bookings.starttime LIKE '2012-09%') THEN 'September' END AS month,\n",
    "    COUNT(bookid) AS total_books\n",
    "FROM Bookings\n",
    "RIGHT JOIN Facilities\n",
    "ON Bookings.facid = Facilities.facid\n",
    "GROUP BY facility_name, month;\"\"\"\n",
    "\n",
    "q13_df = pd.read_sql_query(q13_query, engine)\n",
    "print(q13_df)"
   ]
  },
  {
   "cell_type": "markdown",
   "id": "e18f1d1e",
   "metadata": {},
   "source": [
    "Adding this part to the query would exclude guests, if that is what the question is asking:\n",
    "```\n",
    "WHERE Bookings.memid <> 0\n",
    "```"
   ]
  }
 ],
 "metadata": {
  "kernelspec": {
   "display_name": "Python 3 (ipykernel)",
   "language": "python",
   "name": "python3"
  },
  "language_info": {
   "codemirror_mode": {
    "name": "ipython",
    "version": 3
   },
   "file_extension": ".py",
   "mimetype": "text/x-python",
   "name": "python",
   "nbconvert_exporter": "python",
   "pygments_lexer": "ipython3",
   "version": "3.9.13"
  }
 },
 "nbformat": 4,
 "nbformat_minor": 5
}
